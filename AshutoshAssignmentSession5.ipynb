{
  "nbformat": 4,
  "nbformat_minor": 0,
  "metadata": {
    "colab": {
      "name": "AshutoshAssignmentSession5.ipynb",
      "provenance": [],
      "collapsed_sections": [],
      "include_colab_link": true
    },
    "kernelspec": {
      "name": "python3",
      "display_name": "Python 3"
    },
    "accelerator": "GPU"
  },
  "cells": [
    {
      "cell_type": "markdown",
      "metadata": {
        "id": "view-in-github",
        "colab_type": "text"
      },
      "source": [
        "<a href=\"https://colab.research.google.com/github/Ashutoshai/ImageProcessing/blob/master/AshutoshAssignmentSession5.ipynb\" target=\"_parent\"><img src=\"https://colab.research.google.com/assets/colab-badge.svg\" alt=\"Open In Colab\"/></a>"
      ]
    },
    {
      "cell_type": "code",
      "metadata": {
        "id": "3m3w1Cw49Zkt",
        "colab_type": "code",
        "outputId": "9bb27838-77c0-46b9-f2c5-ba30a475a3fd",
        "colab": {
          "base_uri": "https://localhost:8080/",
          "height": 80
        }
      },
      "source": [
        "import keras"
      ],
      "execution_count": 1,
      "outputs": [
        {
          "output_type": "stream",
          "text": [
            "Using TensorFlow backend.\n"
          ],
          "name": "stderr"
        },
        {
          "output_type": "display_data",
          "data": {
            "text/html": [
              "<p style=\"color: red;\">\n",
              "The default version of TensorFlow in Colab will soon switch to TensorFlow 2.x.<br>\n",
              "We recommend you <a href=\"https://www.tensorflow.org/guide/migrate\" target=\"_blank\">upgrade</a> now \n",
              "or ensure your notebook will continue to use TensorFlow 1.x via the <code>%tensorflow_version 1.x</code> magic:\n",
              "<a href=\"https://colab.research.google.com/notebooks/tensorflow_version.ipynb\" target=\"_blank\">more info</a>.</p>\n"
            ],
            "text/plain": [
              "<IPython.core.display.HTML object>"
            ]
          },
          "metadata": {
            "tags": []
          }
        }
      ]
    },
    {
      "cell_type": "markdown",
      "metadata": {
        "id": "mysmkrBjl8b0",
        "colab_type": "text"
      },
      "source": [
        "imports the MNIST dataset"
      ]
    },
    {
      "cell_type": "code",
      "metadata": {
        "id": "Eso6UHE080D4",
        "colab_type": "code",
        "colab": {}
      },
      "source": [
        "#Import different packages to use in our code\n",
        "\n",
        "import numpy as np\n",
        "from keras.models import load_model\n",
        "\n",
        "from keras.models import Sequential\n",
        "from keras.layers import Dense, Dropout, Activation, Flatten, Add, BatchNormalization\n",
        "from keras.layers import Convolution2D, MaxPooling2D\n",
        "from keras.utils import np_utils\n",
        "from keras.callbacks import EarlyStopping, ModelCheckpoint,Callback\n",
        "from keras.preprocessing.image import ImageDataGenerator\n",
        "\n",
        "#Import MNIST dataset to use in our code\n",
        "from keras.datasets import mnist"
      ],
      "execution_count": 0,
      "outputs": []
    },
    {
      "cell_type": "markdown",
      "metadata": {
        "id": "zByEi95J86RD",
        "colab_type": "text"
      },
      "source": [
        "### Load pre-shuffled MNIST data into train and test sets\n",
        "\n",
        "Load MNIST dataset\n",
        "\n",
        "X_train - input training data\n",
        "\n",
        "y_train - training outputs corresponding to X_train\n",
        "\n",
        "X_test - input testing data\n",
        "\n",
        "y_test - testing outputs corresponding to X_test"
      ]
    },
    {
      "cell_type": "code",
      "metadata": {
        "id": "7eRM0QWN83PV",
        "colab_type": "code",
        "outputId": "5e8a738f-0ac5-488f-d180-cc2368b20a5d",
        "colab": {
          "base_uri": "https://localhost:8080/",
          "height": 51
        }
      },
      "source": [
        "(X_train, y_train), (X_test, y_test) = mnist.load_data()\n",
        "\n",
        "XTest = X_test   # make a copy of X_test and as we will be modifying X_test"
      ],
      "execution_count": 3,
      "outputs": [
        {
          "output_type": "stream",
          "text": [
            "Downloading data from https://s3.amazonaws.com/img-datasets/mnist.npz\n",
            "11493376/11490434 [==============================] - 0s 0us/step\n"
          ],
          "name": "stdout"
        }
      ]
    },
    {
      "cell_type": "markdown",
      "metadata": {
        "id": "evenqcZ0owVA",
        "colab_type": "text"
      },
      "source": [
        "here I Change the dimensionality of X_train and X_test from 60000x28x28 to 60000x28x28x1\n",
        "We are adding one more level of dimension to the input. "
      ]
    },
    {
      "cell_type": "code",
      "metadata": {
        "id": "dkmprriw9AnZ",
        "colab_type": "code",
        "colab": {}
      },
      "source": [
        "X_train = X_train.reshape(X_train.shape[0], 28, 28,1)\n",
        "X_test = X_test.reshape(X_test.shape[0], 28, 28,1)"
      ],
      "execution_count": 0,
      "outputs": []
    },
    {
      "cell_type": "code",
      "metadata": {
        "id": "X2m4YS4E9CRh",
        "colab_type": "code",
        "colab": {}
      },
      "source": [
        "# Image standardization (Divide all the pixel values by max pixel values)\n",
        "X_train = X_train.astype('float32')\n",
        "X_test = X_test.astype('float32')\n",
        "X_train /= 255\n",
        "X_test /= 255"
      ],
      "execution_count": 0,
      "outputs": []
    },
    {
      "cell_type": "markdown",
      "metadata": {
        "id": "_XwhiD4So9Gs",
        "colab_type": "text"
      },
      "source": [
        "Convert test and training   output from simple class number to 'one hot encoding'.\n",
        "In this encoding we have as many bits as the number of classes.\n",
        "We have binary '1' for bit number corresponding to the class of the input. For other classes we have '0'.\n",
        "\n",
        "eg. '5' == '0 0 0 0 1 0 0 0 0 0' ; '10' == '0 0 0 0 0 0 0 0 0 1'"
      ]
    },
    {
      "cell_type": "code",
      "metadata": {
        "id": "ZG8JiXR39FHC",
        "colab_type": "code",
        "colab": {}
      },
      "source": [
        "Y_train = np_utils.to_categorical(y_train, 10)\n",
        "Y_test = np_utils.to_categorical(y_test, 10)"
      ],
      "execution_count": 0,
      "outputs": []
    },
    {
      "cell_type": "code",
      "metadata": {
        "id": "M1G4VQtd-s9X",
        "colab_type": "code",
        "outputId": "e54a846e-5c2a-45f2-de7d-f2591232a713",
        "colab": {
          "base_uri": "https://localhost:8080/",
          "height": 85
        }
      },
      "source": [
        "# Image Normalization \n",
        "# use keras ImageDataGenerator. \n",
        "# 'featurewise_center' function subtracts batch mean from all the batch images to make it zero mean\n",
        "# 'featurewise_std_normalization' function divides batch images with std of batch. \n",
        "\n",
        "datagen = ImageDataGenerator(featurewise_center=True, featurewise_std_normalization=True)\n",
        "\n",
        "# Fit dataGenerator to X_train. This calculates stats for X_train.\n",
        "datagen.fit(X_train)\n",
        "\n",
        "# normalization data verification\n",
        "print('Before Normalization apply')\n",
        "print('Show Training Data  Mean:: {}  Std: :{}'.format(datagen.mean,datagen.std))\n",
        "\n",
        "print('After Normalization apply')\n",
        "tmp_iterator = datagen.flow(X_train, Y_train, batch_size=len(X_train))\n",
        "batchX, batchy = tmp_iterator.next()\n",
        "print('show Training Data  Mean:: {}  Std:: {}'.format(batchX.mean(),batchX.std()))\n",
        "\n"
      ],
      "execution_count": 8,
      "outputs": [
        {
          "output_type": "stream",
          "text": [
            "Before Normalization apply\n",
            "Show Training Data  Mean:: [[[0.13066062]]]  Std: :[[[0.30810776]]]\n",
            "After Normalization apply\n",
            "show Training Data  Mean:: -4.938320330438728e-07  Std:: 0.9999967813491821\n"
          ],
          "name": "stdout"
        }
      ]
    },
    {
      "cell_type": "code",
      "metadata": {
        "colab_type": "code",
        "outputId": "7a43f8b9-5b6d-4342-e666-f1a6f28d7096",
        "id": "O4Dmc3Qdi-Zz",
        "colab": {
          "base_uri": "https://localhost:8080/",
          "height": 1000
        }
      },
      "source": [
        "# Create a model\n",
        "model = Sequential()\n",
        "                                                                              # RF = 1x1    i/p = 28x28x1     \n",
        "model.add(Convolution2D(8, 3, 3, input_shape=(28,28,1)))  # i/p = 28x28x1  kernel = (3x3x1)x8   o/p = 26x26x8,RF = 3x3    \n",
        "model.add(BatchNormalization())      # Batch Normalization\n",
        "model.add(Activation('relu'))        # ReLU activation\n",
        "model.add(Dropout(0.05))             # DropOut 5%\n",
        "\n",
        "model.add(Convolution2D(12, 3, 3))                        #  i/p = 26x26x1  kernel = (3x3x8)x12  o/p = 24x24x12,RF = 5x5   \n",
        "model.add(BatchNormalization())      # Batch Normalization\n",
        "model.add(Activation('relu'))        # ReLU activation\n",
        "model.add(Dropout(0.08))             # DropOut 8%\n",
        "\n",
        "\n",
        "model.add(Convolution2D(8, 1, activation='relu'))                            #  i/p = 24x24x12 kernel = (1x1x12)x8 and  o/p = 24x24x8, RF = 5x5  \n",
        "\n",
        "model.add(MaxPooling2D(pool_size=(2, 2)))                                    # i/p = 24x24x8  kernel = MaxPool2x2  and  o/p = 12x12x8, RF = 10x10  \n",
        "\n",
        "model.add(Convolution2D(12, 3, 3))                        # i/p = 12x12x8  kernel = (3x3x8)x12 and   o/p = 10x10x12, RF = 12x12  \n",
        "model.add(BatchNormalization())      \n",
        "model.add(Activation('relu'))        # ReLU activation\n",
        "model.add(Dropout(0.08))             # DropOut 8%\n",
        "\n",
        "model.add(Convolution2D(12, 3, 3))                        # i/p = 10x10x12 kernel = (3x3x12)x12  and o/p = 8x8x12,RF = 14x14  \n",
        "model.add(BatchNormalization())      \n",
        "model.add(Activation('relu'))        # ReLU activation\n",
        "model.add(Dropout(0.08))             # DropOut 8%\n",
        "\n",
        "model.add(Convolution2D(12, 3, 3))                        #i/p =  8x8x12  kernel = (3x3x12)x12 and  o/p = 6x6x12, RF = 16x16  \n",
        "model.add(BatchNormalization())      \n",
        "model.add(Activation('relu'))        # ReLU activation\n",
        "model.add(Dropout(0.08))             # DropOut 8%\n",
        "\n",
        "\n",
        "model.add(Convolution2D(12, 1))                           # RF = 16x16  i/p = 6x6x12   kernel = (1x1x12)x12 o/p = 6x6x12\n",
        "model.add(BatchNormalization())      # Batch Normalization\n",
        "model.add(Activation('relu'))        # ReLU activation\n",
        "model.add(Dropout(0.08))             # DropOut 8%\n",
        "\n",
        "model.add(Convolution2D(10, 6, 6))                                           # RF = 21x21  i/p = 6x6x12   kernel = (6x6x12)x10 o/p = 1x1x10\n",
        "\n",
        "model.add(Flatten())                                                         # flatten the 1x1x10 array into 10x1 array\n",
        "model.add(Activation('softmax'))                                             # apply  softmax function to obtain classification weights\n",
        "\n",
        "model.summary()   #Show model information"
      ],
      "execution_count": 9,
      "outputs": [
        {
          "output_type": "stream",
          "text": [
            "WARNING:tensorflow:From /usr/local/lib/python3.6/dist-packages/keras/backend/tensorflow_backend.py:66: The name tf.get_default_graph is deprecated. Please use tf.compat.v1.get_default_graph instead.\n",
            "\n",
            "WARNING:tensorflow:From /usr/local/lib/python3.6/dist-packages/keras/backend/tensorflow_backend.py:541: The name tf.placeholder is deprecated. Please use tf.compat.v1.placeholder instead.\n",
            "\n",
            "WARNING:tensorflow:From /usr/local/lib/python3.6/dist-packages/keras/backend/tensorflow_backend.py:4432: The name tf.random_uniform is deprecated. Please use tf.random.uniform instead.\n",
            "\n",
            "WARNING:tensorflow:From /usr/local/lib/python3.6/dist-packages/keras/backend/tensorflow_backend.py:190: The name tf.get_default_session is deprecated. Please use tf.compat.v1.get_default_session instead.\n",
            "\n",
            "WARNING:tensorflow:From /usr/local/lib/python3.6/dist-packages/keras/backend/tensorflow_backend.py:197: The name tf.ConfigProto is deprecated. Please use tf.compat.v1.ConfigProto instead.\n",
            "\n",
            "WARNING:tensorflow:From /usr/local/lib/python3.6/dist-packages/keras/backend/tensorflow_backend.py:203: The name tf.Session is deprecated. Please use tf.compat.v1.Session instead.\n",
            "\n"
          ],
          "name": "stdout"
        },
        {
          "output_type": "stream",
          "text": [
            "/usr/local/lib/python3.6/dist-packages/ipykernel_launcher.py:3: UserWarning: Update your `Conv2D` call to the Keras 2 API: `Conv2D(8, (3, 3), input_shape=(28, 28, 1...)`\n",
            "  This is separate from the ipykernel package so we can avoid doing imports until\n"
          ],
          "name": "stderr"
        },
        {
          "output_type": "stream",
          "text": [
            "WARNING:tensorflow:From /usr/local/lib/python3.6/dist-packages/keras/backend/tensorflow_backend.py:207: The name tf.global_variables is deprecated. Please use tf.compat.v1.global_variables instead.\n",
            "\n",
            "WARNING:tensorflow:From /usr/local/lib/python3.6/dist-packages/keras/backend/tensorflow_backend.py:216: The name tf.is_variable_initialized is deprecated. Please use tf.compat.v1.is_variable_initialized instead.\n",
            "\n",
            "WARNING:tensorflow:From /usr/local/lib/python3.6/dist-packages/keras/backend/tensorflow_backend.py:223: The name tf.variables_initializer is deprecated. Please use tf.compat.v1.variables_initializer instead.\n",
            "\n",
            "WARNING:tensorflow:From /usr/local/lib/python3.6/dist-packages/keras/backend/tensorflow_backend.py:2041: The name tf.nn.fused_batch_norm is deprecated. Please use tf.compat.v1.nn.fused_batch_norm instead.\n",
            "\n",
            "WARNING:tensorflow:From /usr/local/lib/python3.6/dist-packages/keras/backend/tensorflow_backend.py:148: The name tf.placeholder_with_default is deprecated. Please use tf.compat.v1.placeholder_with_default instead.\n",
            "\n",
            "WARNING:tensorflow:From /usr/local/lib/python3.6/dist-packages/keras/backend/tensorflow_backend.py:3733: calling dropout (from tensorflow.python.ops.nn_ops) with keep_prob is deprecated and will be removed in a future version.\n",
            "Instructions for updating:\n",
            "Please use `rate` instead of `keep_prob`. Rate should be set to `rate = 1 - keep_prob`.\n",
            "WARNING:tensorflow:From /usr/local/lib/python3.6/dist-packages/keras/backend/tensorflow_backend.py:4267: The name tf.nn.max_pool is deprecated. Please use tf.nn.max_pool2d instead.\n",
            "\n"
          ],
          "name": "stdout"
        },
        {
          "output_type": "stream",
          "text": [
            "/usr/local/lib/python3.6/dist-packages/ipykernel_launcher.py:8: UserWarning: Update your `Conv2D` call to the Keras 2 API: `Conv2D(12, (3, 3))`\n",
            "  \n",
            "/usr/local/lib/python3.6/dist-packages/ipykernel_launcher.py:18: UserWarning: Update your `Conv2D` call to the Keras 2 API: `Conv2D(12, (3, 3))`\n",
            "/usr/local/lib/python3.6/dist-packages/ipykernel_launcher.py:23: UserWarning: Update your `Conv2D` call to the Keras 2 API: `Conv2D(12, (3, 3))`\n",
            "/usr/local/lib/python3.6/dist-packages/ipykernel_launcher.py:28: UserWarning: Update your `Conv2D` call to the Keras 2 API: `Conv2D(12, (3, 3))`\n"
          ],
          "name": "stderr"
        },
        {
          "output_type": "stream",
          "text": [
            "Model: \"sequential_1\"\n",
            "_________________________________________________________________\n",
            "Layer (type)                 Output Shape              Param #   \n",
            "=================================================================\n",
            "conv2d_1 (Conv2D)            (None, 26, 26, 8)         80        \n",
            "_________________________________________________________________\n",
            "batch_normalization_1 (Batch (None, 26, 26, 8)         32        \n",
            "_________________________________________________________________\n",
            "activation_1 (Activation)    (None, 26, 26, 8)         0         \n",
            "_________________________________________________________________\n",
            "dropout_1 (Dropout)          (None, 26, 26, 8)         0         \n",
            "_________________________________________________________________\n",
            "conv2d_2 (Conv2D)            (None, 24, 24, 12)        876       \n",
            "_________________________________________________________________\n",
            "batch_normalization_2 (Batch (None, 24, 24, 12)        48        \n",
            "_________________________________________________________________\n",
            "activation_2 (Activation)    (None, 24, 24, 12)        0         \n",
            "_________________________________________________________________\n",
            "dropout_2 (Dropout)          (None, 24, 24, 12)        0         \n",
            "_________________________________________________________________\n",
            "conv2d_3 (Conv2D)            (None, 24, 24, 8)         104       \n",
            "_________________________________________________________________\n",
            "max_pooling2d_1 (MaxPooling2 (None, 12, 12, 8)         0         \n",
            "_________________________________________________________________\n",
            "conv2d_4 (Conv2D)            (None, 10, 10, 12)        876       \n",
            "_________________________________________________________________\n",
            "batch_normalization_3 (Batch (None, 10, 10, 12)        48        \n",
            "_________________________________________________________________\n",
            "activation_3 (Activation)    (None, 10, 10, 12)        0         \n",
            "_________________________________________________________________\n",
            "dropout_3 (Dropout)          (None, 10, 10, 12)        0         \n",
            "_________________________________________________________________\n",
            "conv2d_5 (Conv2D)            (None, 8, 8, 12)          1308      \n",
            "_________________________________________________________________\n",
            "batch_normalization_4 (Batch (None, 8, 8, 12)          48        \n",
            "_________________________________________________________________\n",
            "activation_4 (Activation)    (None, 8, 8, 12)          0         \n",
            "_________________________________________________________________\n",
            "dropout_4 (Dropout)          (None, 8, 8, 12)          0         \n",
            "_________________________________________________________________\n",
            "conv2d_6 (Conv2D)            (None, 6, 6, 12)          1308      \n",
            "_________________________________________________________________\n",
            "batch_normalization_5 (Batch (None, 6, 6, 12)          48        \n",
            "_________________________________________________________________\n",
            "activation_5 (Activation)    (None, 6, 6, 12)          0         \n",
            "_________________________________________________________________\n",
            "dropout_5 (Dropout)          (None, 6, 6, 12)          0         \n",
            "_________________________________________________________________\n",
            "conv2d_7 (Conv2D)            (None, 6, 6, 12)          156       \n",
            "_________________________________________________________________\n",
            "batch_normalization_6 (Batch (None, 6, 6, 12)          48        \n",
            "_________________________________________________________________\n",
            "activation_6 (Activation)    (None, 6, 6, 12)          0         \n",
            "_________________________________________________________________\n",
            "dropout_6 (Dropout)          (None, 6, 6, 12)          0         \n",
            "_________________________________________________________________\n",
            "conv2d_8 (Conv2D)            (None, 1, 1, 10)          4330      \n",
            "_________________________________________________________________\n",
            "flatten_1 (Flatten)          (None, 10)                0         \n",
            "_________________________________________________________________\n",
            "activation_7 (Activation)    (None, 10)                0         \n",
            "=================================================================\n",
            "Total params: 9,310\n",
            "Trainable params: 9,174\n",
            "Non-trainable params: 136\n",
            "_________________________________________________________________\n"
          ],
          "name": "stdout"
        },
        {
          "output_type": "stream",
          "text": [
            "/usr/local/lib/python3.6/dist-packages/ipykernel_launcher.py:39: UserWarning: Update your `Conv2D` call to the Keras 2 API: `Conv2D(10, (6, 6))`\n"
          ],
          "name": "stderr"
        }
      ]
    },
    {
      "cell_type": "code",
      "metadata": {
        "id": "QInAnfJDopva",
        "colab_type": "code",
        "outputId": "6088b32e-229c-4a77-a137-3c763a62e1e0",
        "colab": {
          "base_uri": "https://localhost:8080/",
          "height": 122
        }
      },
      "source": [
        "# Setup checkpoint callback\n",
        "\n",
        "from google.colab import drive\n",
        "from keras.callbacks import ModelCheckpoint\n",
        "\n",
        "# mount google drive to save best model \n",
        "drive.mount('/content/drive')\n",
        "\n",
        "\n",
        "\n",
        "# File name of best model\n",
        "fileName = '/content/drive/My Drive/Assignment5-Model.hdf5'\n",
        "# Monitor Validation accuracy and each time accuracy improves, overwrite the model in 'fileName' \n",
        "checkpoint = ModelCheckpoint(fileName,monitor='val_acc', verbose=1, save_best_only=True, mode='auto')"
      ],
      "execution_count": 10,
      "outputs": [
        {
          "output_type": "stream",
          "text": [
            "Go to this URL in a browser: https://accounts.google.com/o/oauth2/auth?client_id=947318989803-6bn6qk8qdgf4n4g3pfee6491hc0brc4i.apps.googleusercontent.com&redirect_uri=urn%3aietf%3awg%3aoauth%3a2.0%3aoob&response_type=code&scope=email%20https%3a%2f%2fwww.googleapis.com%2fauth%2fdocs.test%20https%3a%2f%2fwww.googleapis.com%2fauth%2fdrive%20https%3a%2f%2fwww.googleapis.com%2fauth%2fdrive.photos.readonly%20https%3a%2f%2fwww.googleapis.com%2fauth%2fpeopleapi.readonly\n",
            "\n",
            "Enter your authorization code:\n",
            "··········\n",
            "Mounted at /content/drive\n"
          ],
          "name": "stdout"
        }
      ]
    },
    {
      "cell_type": "markdown",
      "metadata": {
        "id": "kWdNllh6mG2j",
        "colab_type": "text"
      },
      "source": [
        "**Implementing L2 Normalization**"
      ]
    },
    {
      "cell_type": "code",
      "metadata": {
        "id": "F5PapbwrhNXY",
        "colab_type": "code",
        "colab": {}
      },
      "source": [
        "# Define custom loss function in this code block\n",
        "\n",
        "import keras.backend as K\n",
        "\n",
        "def custom_Loss(y_true,y_pred):\n",
        "  lamda = 0.03\n",
        "  \n",
        "  # Calculate L2 norm for given Model Layers\n",
        "  def L2_From_Layers(modelLayers):\n",
        "    numOfWts = 0\n",
        "    wtSqSum = 0\n",
        "    # Traverse each layer in the model\n",
        "    for layer in modelLayers:\n",
        "      # traverse each array of the layer\n",
        "      for arr in (layer.get_weights()):     \n",
        "        wtSqSum += np.sum(np.sum(np.square(arr)))       # sum of squares of all the weights\n",
        "        numOfWts += arr.size                            # calculate the number of weights\n",
        "    \n",
        "    L2Norm = wtSqSum*lamda / (2*BS)                     # Calculate the L2 Norm according to equation\n",
        "    return L2Norm\n",
        "  \n",
        "  # we add L2 Norm to crossentropy loss to define new loss function\n",
        "  totalLoss = K.categorical_crossentropy(y_true,y_pred) + lamda * L2_From_Layers(model.layers)\n",
        "  return totalLoss"
      ],
      "execution_count": 0,
      "outputs": []
    },
    {
      "cell_type": "markdown",
      "metadata": {
        "id": "pWlo4KavmcW2",
        "colab_type": "text"
      },
      "source": [
        "**Compiling and Training the Model**"
      ]
    },
    {
      "cell_type": "code",
      "metadata": {
        "colab_type": "code",
        "id": "Fkr7JElm-sFd",
        "outputId": "12444457-56a1-4f54-8d25-916374b051d1",
        "colab": {
          "base_uri": "https://localhost:8080/",
          "height": 1000
        }
      },
      "source": [
        "from keras.optimizers import Adam\n",
        "from keras.callbacks import LearningRateScheduler\n",
        "BS=128\n",
        "# define  the learning rate scheduler. It will varies learning rate with epoch value\n",
        "def scheduler(epoch, lr):\n",
        "  return round(0.009 * 1/(1 + 0.9 * epoch), 10)\n",
        "\n",
        "model.compile(loss='categorical_crossentropy', optimizer=Adam(lr=0.009), metrics=['accuracy', custom_Loss])\n",
        "\n",
        "\n",
        "# Define how should ImageDataGenerator provide training batch and test batch with defined image augmentation\n",
        "\n",
        "train_iterator = datagen.flow(X_train, Y_train, batch_size = BS,shuffle=False)\n",
        "test_iterator = datagen.flow(X_test, Y_test, batch_size=len(X_test),shuffle=False)\n",
        "\n",
        "#Train the model for 40 epochs with the batch generated by ImageDataGenrator\n",
        "\n",
        "model.fit_generator(train_iterator, steps_per_epoch=(len(X_train)//BS), epochs=40, verbose=1, validation_data = test_iterator, validation_steps = 1,\n",
        "                    callbacks=[LearningRateScheduler(scheduler, verbose=1),checkpoint])"
      ],
      "execution_count": 12,
      "outputs": [
        {
          "output_type": "stream",
          "text": [
            "WARNING:tensorflow:From /usr/local/lib/python3.6/dist-packages/keras/optimizers.py:793: The name tf.train.Optimizer is deprecated. Please use tf.compat.v1.train.Optimizer instead.\n",
            "\n",
            "WARNING:tensorflow:From /usr/local/lib/python3.6/dist-packages/keras/backend/tensorflow_backend.py:3576: The name tf.log is deprecated. Please use tf.math.log instead.\n",
            "\n",
            "WARNING:tensorflow:From /usr/local/lib/python3.6/dist-packages/tensorflow_core/python/ops/math_grad.py:1424: where (from tensorflow.python.ops.array_ops) is deprecated and will be removed in a future version.\n",
            "Instructions for updating:\n",
            "Use tf.where in 2.0, which has the same broadcast rule as np.where\n",
            "WARNING:tensorflow:From /usr/local/lib/python3.6/dist-packages/keras/backend/tensorflow_backend.py:1033: The name tf.assign_add is deprecated. Please use tf.compat.v1.assign_add instead.\n",
            "\n",
            "WARNING:tensorflow:From /usr/local/lib/python3.6/dist-packages/keras/backend/tensorflow_backend.py:1020: The name tf.assign is deprecated. Please use tf.compat.v1.assign instead.\n",
            "\n",
            "Epoch 1/40\n",
            "\n",
            "Epoch 00001: LearningRateScheduler setting learning rate to 0.009.\n",
            "468/468 [==============================] - 21s 45ms/step - loss: 0.1761 - acc: 0.9438 - custom_Loss: 0.1769 - val_loss: 0.0972 - val_acc: 0.9690 - val_custom_Loss: 0.0980\n",
            "\n",
            "Epoch 00001: val_acc improved from -inf to 0.96900, saving model to /content/drive/My Drive/Assignment5-Model.hdf5\n",
            "Epoch 2/40\n",
            "\n",
            "Epoch 00002: LearningRateScheduler setting learning rate to 0.0047368421.\n",
            "468/468 [==============================] - 12s 26ms/step - loss: 0.0627 - acc: 0.9804 - custom_Loss: 0.0634 - val_loss: 0.0424 - val_acc: 0.9863 - val_custom_Loss: 0.0431\n",
            "\n",
            "Epoch 00002: val_acc improved from 0.96900 to 0.98630, saving model to /content/drive/My Drive/Assignment5-Model.hdf5\n",
            "Epoch 3/40\n",
            "\n",
            "Epoch 00003: LearningRateScheduler setting learning rate to 0.0032142857.\n",
            "468/468 [==============================] - 12s 26ms/step - loss: 0.0493 - acc: 0.9850 - custom_Loss: 0.0500 - val_loss: 0.0324 - val_acc: 0.9896 - val_custom_Loss: 0.0332\n",
            "\n",
            "Epoch 00003: val_acc improved from 0.98630 to 0.98960, saving model to /content/drive/My Drive/Assignment5-Model.hdf5\n",
            "Epoch 4/40\n",
            "\n",
            "Epoch 00004: LearningRateScheduler setting learning rate to 0.0024324324.\n",
            "468/468 [==============================] - 13s 27ms/step - loss: 0.0424 - acc: 0.9868 - custom_Loss: 0.0432 - val_loss: 0.0319 - val_acc: 0.9902 - val_custom_Loss: 0.0326\n",
            "\n",
            "Epoch 00004: val_acc improved from 0.98960 to 0.99020, saving model to /content/drive/My Drive/Assignment5-Model.hdf5\n",
            "Epoch 5/40\n",
            "\n",
            "Epoch 00005: LearningRateScheduler setting learning rate to 0.0019565217.\n",
            "468/468 [==============================] - 13s 28ms/step - loss: 0.0385 - acc: 0.9879 - custom_Loss: 0.0392 - val_loss: 0.0252 - val_acc: 0.9921 - val_custom_Loss: 0.0260\n",
            "\n",
            "Epoch 00005: val_acc improved from 0.99020 to 0.99210, saving model to /content/drive/My Drive/Assignment5-Model.hdf5\n",
            "Epoch 6/40\n",
            "\n",
            "Epoch 00006: LearningRateScheduler setting learning rate to 0.0016363636.\n",
            "468/468 [==============================] - 12s 26ms/step - loss: 0.0335 - acc: 0.9893 - custom_Loss: 0.0343 - val_loss: 0.0258 - val_acc: 0.9916 - val_custom_Loss: 0.0265\n",
            "\n",
            "Epoch 00006: val_acc did not improve from 0.99210\n",
            "Epoch 7/40\n",
            "\n",
            "Epoch 00007: LearningRateScheduler setting learning rate to 0.00140625.\n",
            "468/468 [==============================] - 12s 26ms/step - loss: 0.0334 - acc: 0.9890 - custom_Loss: 0.0342 - val_loss: 0.0252 - val_acc: 0.9914 - val_custom_Loss: 0.0260\n",
            "\n",
            "Epoch 00007: val_acc did not improve from 0.99210\n",
            "Epoch 8/40\n",
            "\n",
            "Epoch 00008: LearningRateScheduler setting learning rate to 0.0012328767.\n",
            "468/468 [==============================] - 12s 26ms/step - loss: 0.0323 - acc: 0.9897 - custom_Loss: 0.0331 - val_loss: 0.0217 - val_acc: 0.9929 - val_custom_Loss: 0.0225\n",
            "\n",
            "Epoch 00008: val_acc improved from 0.99210 to 0.99290, saving model to /content/drive/My Drive/Assignment5-Model.hdf5\n",
            "Epoch 9/40\n",
            "\n",
            "Epoch 00009: LearningRateScheduler setting learning rate to 0.001097561.\n",
            "468/468 [==============================] - 13s 27ms/step - loss: 0.0282 - acc: 0.9909 - custom_Loss: 0.0289 - val_loss: 0.0252 - val_acc: 0.9923 - val_custom_Loss: 0.0260\n",
            "\n",
            "Epoch 00009: val_acc did not improve from 0.99290\n",
            "Epoch 10/40\n",
            "\n",
            "Epoch 00010: LearningRateScheduler setting learning rate to 0.000989011.\n",
            "468/468 [==============================] - 12s 26ms/step - loss: 0.0274 - acc: 0.9911 - custom_Loss: 0.0282 - val_loss: 0.0199 - val_acc: 0.9934 - val_custom_Loss: 0.0206\n",
            "\n",
            "Epoch 00010: val_acc improved from 0.99290 to 0.99340, saving model to /content/drive/My Drive/Assignment5-Model.hdf5\n",
            "Epoch 11/40\n",
            "\n",
            "Epoch 00011: LearningRateScheduler setting learning rate to 0.0009.\n",
            "468/468 [==============================] - 12s 25ms/step - loss: 0.0257 - acc: 0.9917 - custom_Loss: 0.0264 - val_loss: 0.0212 - val_acc: 0.9935 - val_custom_Loss: 0.0219\n",
            "\n",
            "Epoch 00011: val_acc improved from 0.99340 to 0.99350, saving model to /content/drive/My Drive/Assignment5-Model.hdf5\n",
            "Epoch 12/40\n",
            "\n",
            "Epoch 00012: LearningRateScheduler setting learning rate to 0.0008256881.\n",
            "468/468 [==============================] - 12s 25ms/step - loss: 0.0258 - acc: 0.9913 - custom_Loss: 0.0266 - val_loss: 0.0236 - val_acc: 0.9920 - val_custom_Loss: 0.0244\n",
            "\n",
            "Epoch 00012: val_acc did not improve from 0.99350\n",
            "Epoch 13/40\n",
            "\n",
            "Epoch 00013: LearningRateScheduler setting learning rate to 0.0007627119.\n",
            "468/468 [==============================] - 12s 26ms/step - loss: 0.0246 - acc: 0.9922 - custom_Loss: 0.0254 - val_loss: 0.0229 - val_acc: 0.9925 - val_custom_Loss: 0.0236\n",
            "\n",
            "Epoch 00013: val_acc did not improve from 0.99350\n",
            "Epoch 14/40\n",
            "\n",
            "Epoch 00014: LearningRateScheduler setting learning rate to 0.0007086614.\n",
            "468/468 [==============================] - 12s 25ms/step - loss: 0.0244 - acc: 0.9922 - custom_Loss: 0.0252 - val_loss: 0.0221 - val_acc: 0.9929 - val_custom_Loss: 0.0228\n",
            "\n",
            "Epoch 00014: val_acc did not improve from 0.99350\n",
            "Epoch 15/40\n",
            "\n",
            "Epoch 00015: LearningRateScheduler setting learning rate to 0.0006617647.\n",
            "468/468 [==============================] - 12s 25ms/step - loss: 0.0229 - acc: 0.9926 - custom_Loss: 0.0236 - val_loss: 0.0222 - val_acc: 0.9929 - val_custom_Loss: 0.0230\n",
            "\n",
            "Epoch 00015: val_acc did not improve from 0.99350\n",
            "Epoch 16/40\n",
            "\n",
            "Epoch 00016: LearningRateScheduler setting learning rate to 0.0006206897.\n",
            "468/468 [==============================] - 12s 25ms/step - loss: 0.0226 - acc: 0.9928 - custom_Loss: 0.0233 - val_loss: 0.0216 - val_acc: 0.9929 - val_custom_Loss: 0.0224\n",
            "\n",
            "Epoch 00016: val_acc did not improve from 0.99350\n",
            "Epoch 17/40\n",
            "\n",
            "Epoch 00017: LearningRateScheduler setting learning rate to 0.0005844156.\n",
            "468/468 [==============================] - 13s 27ms/step - loss: 0.0228 - acc: 0.9925 - custom_Loss: 0.0236 - val_loss: 0.0214 - val_acc: 0.9926 - val_custom_Loss: 0.0221\n",
            "\n",
            "Epoch 00017: val_acc did not improve from 0.99350\n",
            "Epoch 18/40\n",
            "\n",
            "Epoch 00018: LearningRateScheduler setting learning rate to 0.0005521472.\n",
            "468/468 [==============================] - 12s 26ms/step - loss: 0.0213 - acc: 0.9930 - custom_Loss: 0.0220 - val_loss: 0.0222 - val_acc: 0.9921 - val_custom_Loss: 0.0229\n",
            "\n",
            "Epoch 00018: val_acc did not improve from 0.99350\n",
            "Epoch 19/40\n",
            "\n",
            "Epoch 00019: LearningRateScheduler setting learning rate to 0.0005232558.\n",
            "468/468 [==============================] - 12s 25ms/step - loss: 0.0207 - acc: 0.9933 - custom_Loss: 0.0215 - val_loss: 0.0222 - val_acc: 0.9929 - val_custom_Loss: 0.0230\n",
            "\n",
            "Epoch 00019: val_acc did not improve from 0.99350\n",
            "Epoch 20/40\n",
            "\n",
            "Epoch 00020: LearningRateScheduler setting learning rate to 0.0004972376.\n",
            "468/468 [==============================] - 12s 25ms/step - loss: 0.0214 - acc: 0.9931 - custom_Loss: 0.0221 - val_loss: 0.0240 - val_acc: 0.9919 - val_custom_Loss: 0.0247\n",
            "\n",
            "Epoch 00020: val_acc did not improve from 0.99350\n",
            "Epoch 21/40\n",
            "\n",
            "Epoch 00021: LearningRateScheduler setting learning rate to 0.0004736842.\n",
            "468/468 [==============================] - 13s 27ms/step - loss: 0.0223 - acc: 0.9928 - custom_Loss: 0.0231 - val_loss: 0.0217 - val_acc: 0.9934 - val_custom_Loss: 0.0224\n",
            "\n",
            "Epoch 00021: val_acc did not improve from 0.99350\n",
            "Epoch 22/40\n",
            "\n",
            "Epoch 00022: LearningRateScheduler setting learning rate to 0.0004522613.\n",
            "468/468 [==============================] - 12s 26ms/step - loss: 0.0199 - acc: 0.9935 - custom_Loss: 0.0206 - val_loss: 0.0200 - val_acc: 0.9932 - val_custom_Loss: 0.0207\n",
            "\n",
            "Epoch 00022: val_acc did not improve from 0.99350\n",
            "Epoch 23/40\n",
            "\n",
            "Epoch 00023: LearningRateScheduler setting learning rate to 0.0004326923.\n",
            "468/468 [==============================] - 12s 25ms/step - loss: 0.0201 - acc: 0.9935 - custom_Loss: 0.0209 - val_loss: 0.0222 - val_acc: 0.9927 - val_custom_Loss: 0.0230\n",
            "\n",
            "Epoch 00023: val_acc did not improve from 0.99350\n",
            "Epoch 24/40\n",
            "\n",
            "Epoch 00024: LearningRateScheduler setting learning rate to 0.0004147465.\n",
            "468/468 [==============================] - 12s 26ms/step - loss: 0.0193 - acc: 0.9939 - custom_Loss: 0.0201 - val_loss: 0.0213 - val_acc: 0.9929 - val_custom_Loss: 0.0220\n",
            "\n",
            "Epoch 00024: val_acc did not improve from 0.99350\n",
            "Epoch 25/40\n",
            "\n",
            "Epoch 00025: LearningRateScheduler setting learning rate to 0.0003982301.\n",
            "468/468 [==============================] - 13s 27ms/step - loss: 0.0198 - acc: 0.9938 - custom_Loss: 0.0205 - val_loss: 0.0219 - val_acc: 0.9931 - val_custom_Loss: 0.0226\n",
            "\n",
            "Epoch 00025: val_acc did not improve from 0.99350\n",
            "Epoch 26/40\n",
            "\n",
            "Epoch 00026: LearningRateScheduler setting learning rate to 0.0003829787.\n",
            "468/468 [==============================] - 12s 26ms/step - loss: 0.0193 - acc: 0.9934 - custom_Loss: 0.0200 - val_loss: 0.0221 - val_acc: 0.9934 - val_custom_Loss: 0.0228\n",
            "\n",
            "Epoch 00026: val_acc did not improve from 0.99350\n",
            "Epoch 27/40\n",
            "\n",
            "Epoch 00027: LearningRateScheduler setting learning rate to 0.0003688525.\n",
            "468/468 [==============================] - 12s 25ms/step - loss: 0.0185 - acc: 0.9939 - custom_Loss: 0.0192 - val_loss: 0.0214 - val_acc: 0.9934 - val_custom_Loss: 0.0222\n",
            "\n",
            "Epoch 00027: val_acc did not improve from 0.99350\n",
            "Epoch 28/40\n",
            "\n",
            "Epoch 00028: LearningRateScheduler setting learning rate to 0.0003557312.\n",
            "468/468 [==============================] - 12s 25ms/step - loss: 0.0187 - acc: 0.9939 - custom_Loss: 0.0195 - val_loss: 0.0211 - val_acc: 0.9935 - val_custom_Loss: 0.0219\n",
            "\n",
            "Epoch 00028: val_acc did not improve from 0.99350\n",
            "Epoch 29/40\n",
            "\n",
            "Epoch 00029: LearningRateScheduler setting learning rate to 0.0003435115.\n",
            "468/468 [==============================] - 12s 27ms/step - loss: 0.0181 - acc: 0.9940 - custom_Loss: 0.0188 - val_loss: 0.0218 - val_acc: 0.9936 - val_custom_Loss: 0.0226\n",
            "\n",
            "Epoch 00029: val_acc improved from 0.99350 to 0.99360, saving model to /content/drive/My Drive/Assignment5-Model.hdf5\n",
            "Epoch 30/40\n",
            "\n",
            "Epoch 00030: LearningRateScheduler setting learning rate to 0.0003321033.\n",
            "468/468 [==============================] - 12s 26ms/step - loss: 0.0185 - acc: 0.9939 - custom_Loss: 0.0193 - val_loss: 0.0212 - val_acc: 0.9932 - val_custom_Loss: 0.0219\n",
            "\n",
            "Epoch 00030: val_acc did not improve from 0.99360\n",
            "Epoch 31/40\n",
            "\n",
            "Epoch 00031: LearningRateScheduler setting learning rate to 0.0003214286.\n",
            "468/468 [==============================] - 12s 25ms/step - loss: 0.0176 - acc: 0.9941 - custom_Loss: 0.0183 - val_loss: 0.0216 - val_acc: 0.9931 - val_custom_Loss: 0.0224\n",
            "\n",
            "Epoch 00031: val_acc did not improve from 0.99360\n",
            "Epoch 32/40\n",
            "\n",
            "Epoch 00032: LearningRateScheduler setting learning rate to 0.0003114187.\n",
            "468/468 [==============================] - 12s 26ms/step - loss: 0.0172 - acc: 0.9943 - custom_Loss: 0.0180 - val_loss: 0.0216 - val_acc: 0.9935 - val_custom_Loss: 0.0224\n",
            "\n",
            "Epoch 00032: val_acc did not improve from 0.99360\n",
            "Epoch 33/40\n",
            "\n",
            "Epoch 00033: LearningRateScheduler setting learning rate to 0.0003020134.\n",
            "468/468 [==============================] - 13s 27ms/step - loss: 0.0180 - acc: 0.9939 - custom_Loss: 0.0188 - val_loss: 0.0203 - val_acc: 0.9938 - val_custom_Loss: 0.0210\n",
            "\n",
            "Epoch 00033: val_acc improved from 0.99360 to 0.99380, saving model to /content/drive/My Drive/Assignment5-Model.hdf5\n",
            "Epoch 34/40\n",
            "\n",
            "Epoch 00034: LearningRateScheduler setting learning rate to 0.0002931596.\n",
            "468/468 [==============================] - 12s 26ms/step - loss: 0.0176 - acc: 0.9940 - custom_Loss: 0.0184 - val_loss: 0.0201 - val_acc: 0.9936 - val_custom_Loss: 0.0209\n",
            "\n",
            "Epoch 00034: val_acc did not improve from 0.99380\n",
            "Epoch 35/40\n",
            "\n",
            "Epoch 00035: LearningRateScheduler setting learning rate to 0.0002848101.\n",
            "468/468 [==============================] - 12s 25ms/step - loss: 0.0175 - acc: 0.9939 - custom_Loss: 0.0182 - val_loss: 0.0212 - val_acc: 0.9933 - val_custom_Loss: 0.0220\n",
            "\n",
            "Epoch 00035: val_acc did not improve from 0.99380\n",
            "Epoch 36/40\n",
            "\n",
            "Epoch 00036: LearningRateScheduler setting learning rate to 0.0002769231.\n",
            "468/468 [==============================] - 12s 25ms/step - loss: 0.0177 - acc: 0.9939 - custom_Loss: 0.0184 - val_loss: 0.0208 - val_acc: 0.9935 - val_custom_Loss: 0.0215\n",
            "\n",
            "Epoch 00036: val_acc did not improve from 0.99380\n",
            "Epoch 37/40\n",
            "\n",
            "Epoch 00037: LearningRateScheduler setting learning rate to 0.0002694611.\n",
            "468/468 [==============================] - 13s 27ms/step - loss: 0.0172 - acc: 0.9944 - custom_Loss: 0.0180 - val_loss: 0.0209 - val_acc: 0.9933 - val_custom_Loss: 0.0216\n",
            "\n",
            "Epoch 00037: val_acc did not improve from 0.99380\n",
            "Epoch 38/40\n",
            "\n",
            "Epoch 00038: LearningRateScheduler setting learning rate to 0.0002623907.\n",
            "468/468 [==============================] - 12s 26ms/step - loss: 0.0168 - acc: 0.9943 - custom_Loss: 0.0176 - val_loss: 0.0212 - val_acc: 0.9932 - val_custom_Loss: 0.0219\n",
            "\n",
            "Epoch 00038: val_acc did not improve from 0.99380\n",
            "Epoch 39/40\n",
            "\n",
            "Epoch 00039: LearningRateScheduler setting learning rate to 0.0002556818.\n",
            "468/468 [==============================] - 13s 28ms/step - loss: 0.0170 - acc: 0.9946 - custom_Loss: 0.0177 - val_loss: 0.0210 - val_acc: 0.9934 - val_custom_Loss: 0.0217\n",
            "\n",
            "Epoch 00039: val_acc did not improve from 0.99380\n",
            "Epoch 40/40\n",
            "\n",
            "Epoch 00040: LearningRateScheduler setting learning rate to 0.0002493075.\n",
            "468/468 [==============================] - 13s 28ms/step - loss: 0.0160 - acc: 0.9944 - custom_Loss: 0.0168 - val_loss: 0.0215 - val_acc: 0.9934 - val_custom_Loss: 0.0222\n",
            "\n",
            "Epoch 00040: val_acc did not improve from 0.99380\n"
          ],
          "name": "stdout"
        },
        {
          "output_type": "execute_result",
          "data": {
            "text/plain": [
              "<keras.callbacks.History at 0x7f08edef9d30>"
            ]
          },
          "metadata": {
            "tags": []
          },
          "execution_count": 12
        }
      ]
    },
    {
      "cell_type": "markdown",
      "metadata": {
        "id": "iXJRih9lo0ms",
        "colab_type": "text"
      },
      "source": [
        "**Plotting 25 MisClassified Images**"
      ]
    },
    {
      "cell_type": "code",
      "metadata": {
        "colab_type": "code",
        "id": "4hZMN67d_qsb",
        "outputId": "545a9235-8876-4656-8730-6fe327639a69",
        "colab": {
          "base_uri": "https://localhost:8080/",
          "height": 1000
        }
      },
      "source": [
        "import matplotlib.pyplot as plt\n",
        "\n",
        "# Load the model saved during the training time\n",
        "model.load_weights(\"/content/drive/My Drive/Assignment5-Model.hdf5\")\n",
        "\n",
        "datagen2 = ImageDataGenerator(featurewise_center=True, featurewise_std_normalization=True)\n",
        "\n",
        "# Fit dataGenerator to X_test and This calculates stats for X_test.\n",
        "datagen2.fit(X_test)\n",
        "\n",
        "# Generate an iterator to generated normalized testdata\n",
        "test_iterator = datagen2.flow(X_test, Y_test, batch_size=len(X_test),shuffle=False)\n",
        "\n",
        "# Make pedictions for test data using the trained model\n",
        "y_pred = model.predict_generator(test_iterator,steps=1)\n",
        "\n",
        "# Get the actual class values from one hot encoded y_pred\n",
        "predictedDigits = np.argmax(y_pred,axis =1)\n",
        "\n",
        "# Set number of rows and columns \n",
        "rows = 5\n",
        "cols = 5\n",
        "\n",
        "# Generate a rows x cols sized image grid \n",
        "f, axarr = plt.subplots(rows,cols)\n",
        "\n",
        "i = 0\n",
        "count = 0\n",
        "while ((count < rows*cols) and (i < X_test.shape[0])):\n",
        "       if(predictedDigits[i] != y_test[i]):\n",
        "            axarr[count // rows][count % cols].imshow(XTest[i])\n",
        "            axarr[count // rows][count % cols].set_title('Predicted:{} / Actual:{}'.format(predictedDigits[i],y_test[i]),fontsize=12)\n",
        "            axarr[count // rows][count % cols].axis('off')\n",
        "            count += 1\n",
        "       \n",
        "       i +=  1\n",
        "             \n",
        "    \n",
        "f.subplots_adjust(hspace=0.3)    \n",
        "f.suptitle('Missclassified images', fontsize=30)\n",
        "f.set_size_inches(20,22)\n",
        "    \n",
        "    "
      ],
      "execution_count": 14,
      "outputs": [
        {
          "output_type": "display_data",
          "data": {
            "image/png": "[encoded data removed]",
            "text/plain": [
              "<Figure size 1440x1584 with 25 Axes>"
            ]
          },
          "metadata": {
            "tags": []
          }
        }
      ]
    }
  ]
}