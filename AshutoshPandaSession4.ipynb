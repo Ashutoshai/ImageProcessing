{
  "nbformat": 4,
  "nbformat_minor": 0,
  "metadata": {
    "colab": {
      "name": "AshutoshPandaSession4.ipynb",
      "provenance": [],
      "collapsed_sections": [],
      "include_colab_link": true
    },
    "kernelspec": {
      "name": "python3",
      "display_name": "Python 3"
    },
    "accelerator": "GPU"
  },
  "cells": [
    {
      "cell_type": "markdown",
      "metadata": {
        "id": "view-in-github",
        "colab_type": "text"
      },
      "source": [
        "<a href=\"https://colab.research.google.com/github/Ashutoshai/ImageProcessing/blob/master/AshutoshPandaSession4.ipynb\" target=\"_parent\"><img src=\"https://colab.research.google.com/assets/colab-badge.svg\" alt=\"Open In Colab\"/></a>"
      ]
    },
    {
      "cell_type": "code",
      "metadata": {
        "id": "VXhQC3pBLOif",
        "colab_type": "code",
        "outputId": "099a49bf-de8a-4415-a983-2e93b8dac225",
        "colab": {
          "base_uri": "https://localhost:8080/",
          "height": 34
        }
      },
      "source": [
        "# https://keras.io/\n",
        "!pip install -q keras\n",
        "import keras"
      ],
      "execution_count": 0,
      "outputs": [
        {
          "output_type": "stream",
          "text": [
            "Using TensorFlow backend.\n"
          ],
          "name": "stderr"
        }
      ]
    },
    {
      "cell_type": "code",
      "metadata": {
        "id": "JgJFCW2ILmfm",
        "colab_type": "code",
        "colab": {}
      },
      "source": [
        "import numpy as np\n",
        "\n",
        "from keras.models import Sequential\n",
        "from keras.layers import Dense, Dropout, Activation, Flatten, Add, BatchNormalization\n",
        "from keras.layers import Convolution2D, MaxPooling2D\n",
        "from keras.utils import np_utils\n",
        "\n",
        "from keras.datasets import mnist"
      ],
      "execution_count": 0,
      "outputs": []
    },
    {
      "cell_type": "code",
      "metadata": {
        "id": "ukBOFH38LpRB",
        "colab_type": "code",
        "colab": {}
      },
      "source": [
        ""
      ],
      "execution_count": 0,
      "outputs": []
    },
    {
      "cell_type": "code",
      "metadata": {
        "id": "7eRM0QWN83PV",
        "colab_type": "code",
        "outputId": "cfe15066-d4d3-4002-822c-8c1823a5c677",
        "colab": {
          "base_uri": "https://localhost:8080/",
          "height": 51
        }
      },
      "source": [
        "(X_train, y_train), (X_test, y_test) = mnist.load_data()"
      ],
      "execution_count": 0,
      "outputs": [
        {
          "output_type": "stream",
          "text": [
            "Downloading data from https://s3.amazonaws.com/img-datasets/mnist.npz\n",
            "11493376/11490434 [==============================] - 2s 0us/step\n"
          ],
          "name": "stdout"
        }
      ]
    },
    {
      "cell_type": "code",
      "metadata": {
        "id": "d7BaYZ3yLxhL",
        "colab_type": "code",
        "outputId": "dcd1d709-2273-42e2-9fdc-e7616e333af4",
        "colab": {
          "base_uri": "https://localhost:8080/",
          "height": 302
        }
      },
      "source": [
        "print (X_train.shape)\n",
        "from matplotlib import pyplot as plt\n",
        "%matplotlib inline\n",
        "plt.imshow(X_train[0])"
      ],
      "execution_count": 0,
      "outputs": [
        {
          "output_type": "stream",
          "text": [
            "(60000, 28, 28)\n"
          ],
          "name": "stdout"
        },
        {
          "output_type": "execute_result",
          "data": {
            "text/plain": [
              "<matplotlib.image.AxesImage at 0x7fed4aa23d30>"
            ]
          },
          "metadata": {
            "tags": []
          },
          "execution_count": 4
        },
        {
          "output_type": "display_data",
          "data": {
            "image/png": "[encoded data removed]",
            "text/plain": [
              "<Figure size 432x288 with 1 Axes>"
            ]
          },
          "metadata": {
            "tags": []
          }
        }
      ]
    },
    {
      "cell_type": "code",
      "metadata": {
        "id": "L9YvW8UpL0Qd",
        "colab_type": "code",
        "colab": {}
      },
      "source": [
        "X_train = X_train.reshape(X_train.shape[0], 28, 28,1)\n",
        "X_test = X_test.reshape(X_test.shape[0], 28, 28,1)"
      ],
      "execution_count": 0,
      "outputs": []
    },
    {
      "cell_type": "code",
      "metadata": {
        "id": "soOIqdEzL2Na",
        "colab_type": "code",
        "colab": {}
      },
      "source": [
        "X_train = X_train.astype('float32')\n",
        "X_test = X_test.astype('float32')\n",
        "X_train /= 255\n",
        "X_test /= 255"
      ],
      "execution_count": 0,
      "outputs": []
    },
    {
      "cell_type": "code",
      "metadata": {
        "id": "D7bc_oDbL4aY",
        "colab_type": "code",
        "outputId": "d27f5988-4565-4771-e550-ba09e0fa696c",
        "colab": {
          "base_uri": "https://localhost:8080/",
          "height": 34
        }
      },
      "source": [
        "y_train[:10]"
      ],
      "execution_count": 0,
      "outputs": [
        {
          "output_type": "execute_result",
          "data": {
            "text/plain": [
              "array([5, 0, 4, 1, 9, 2, 1, 3, 1, 4], dtype=uint8)"
            ]
          },
          "metadata": {
            "tags": []
          },
          "execution_count": 7
        }
      ]
    },
    {
      "cell_type": "code",
      "metadata": {
        "id": "iytXTKc0L6th",
        "colab_type": "code",
        "colab": {}
      },
      "source": [
        "# Convert 1-dimensional class arrays to 10-dimensional class matrices\n",
        "Y_train = np_utils.to_categorical(y_train, 10)\n",
        "Y_test = np_utils.to_categorical(y_test, 10)"
      ],
      "execution_count": 0,
      "outputs": []
    },
    {
      "cell_type": "code",
      "metadata": {
        "id": "xgfsfW4GL9Yb",
        "colab_type": "code",
        "outputId": "1664e65f-c23f-4c53-9b97-f35f9e492dea",
        "colab": {
          "base_uri": "https://localhost:8080/",
          "height": 187
        }
      },
      "source": [
        "Y_train[:10]"
      ],
      "execution_count": 0,
      "outputs": [
        {
          "output_type": "execute_result",
          "data": {
            "text/plain": [
              "array([[0., 0., 0., 0., 0., 1., 0., 0., 0., 0.],\n",
              "       [1., 0., 0., 0., 0., 0., 0., 0., 0., 0.],\n",
              "       [0., 0., 0., 0., 1., 0., 0., 0., 0., 0.],\n",
              "       [0., 1., 0., 0., 0., 0., 0., 0., 0., 0.],\n",
              "       [0., 0., 0., 0., 0., 0., 0., 0., 0., 1.],\n",
              "       [0., 0., 1., 0., 0., 0., 0., 0., 0., 0.],\n",
              "       [0., 1., 0., 0., 0., 0., 0., 0., 0., 0.],\n",
              "       [0., 0., 0., 1., 0., 0., 0., 0., 0., 0.],\n",
              "       [0., 1., 0., 0., 0., 0., 0., 0., 0., 0.],\n",
              "       [0., 0., 0., 0., 1., 0., 0., 0., 0., 0.]], dtype=float32)"
            ]
          },
          "metadata": {
            "tags": []
          },
          "execution_count": 9
        }
      ]
    },
    {
      "cell_type": "markdown",
      "metadata": {
        "id": "AR7443Z5iqHr",
        "colab_type": "text"
      },
      "source": [
        "First CODE BLOCK Vanilla network (no BN, DropOut, LR, larger batch size, change in Optimizer, etc)"
      ]
    },
    {
      "cell_type": "code",
      "metadata": {
        "id": "GHCbpT5zMAyi",
        "colab_type": "code",
        "outputId": "6835a281-7d4d-4f8c-9373-cb5bf69ff2f7",
        "colab": {
          "base_uri": "https://localhost:8080/",
          "height": 1000
        }
      },
      "source": [
        "from keras.layers import Activation\n",
        "model = Sequential()\n",
        "model.add(Convolution2D(12, 3, 3, activation='relu', input_shape=(28,28,1))) # 26 and receptive field 3\n",
        "model.add(Convolution2D(13, 3, 3, activation='relu')) # 24 and receptive field 5\n",
        "model.add(Convolution2D(20, 3, 3, activation='relu')) # 22 and receptive field 7\n",
        "model.add(Convolution2D(13, 1, 1, activation='relu')) # 22 and receptive field 7\n",
        "model.add(MaxPooling2D(pool_size=(2, 2))) # 11 and receptive field 14\n",
        "model.add(Convolution2D(13, 3, 3, activation='relu'))# 9 and receptive field 16\n",
        "model.add(Convolution2D(13, 3, 3, activation='relu')) # 7 and receptive field 18\n",
        "model.add(Convolution2D(20, 3, 3, activation='relu'))  # 5 and receptive field 20\n",
        "\n",
        "model.add(Convolution2D(10, 5))   # 1 and receptive field 22\n",
        "model.add(Flatten())\n",
        "model.add(Activation('softmax'))\n",
        "model.summary()\n",
        "model.compile(loss='categorical_crossentropy',\n",
        "             optimizer='adam',\n",
        "             metrics=['accuracy'])\n",
        "model.fit(X_train, Y_train, batch_size=32, \n",
        "          epochs=20, verbose=1, \n",
        "          validation_data=(X_test, Y_test))\n",
        "score = model.evaluate(X_test, Y_test, verbose=0)\n",
        "print(score)"
      ],
      "execution_count": 0,
      "outputs": [
        {
          "output_type": "stream",
          "text": [
            "/usr/local/lib/python3.6/dist-packages/ipykernel_launcher.py:3: UserWarning: Update your `Conv2D` call to the Keras 2 API: `Conv2D(12, (3, 3), activation=\"relu\", input_shape=(28, 28, 1...)`\n",
            "  This is separate from the ipykernel package so we can avoid doing imports until\n",
            "/usr/local/lib/python3.6/dist-packages/ipykernel_launcher.py:4: UserWarning: Update your `Conv2D` call to the Keras 2 API: `Conv2D(13, (3, 3), activation=\"relu\")`\n",
            "  after removing the cwd from sys.path.\n",
            "/usr/local/lib/python3.6/dist-packages/ipykernel_launcher.py:5: UserWarning: Update your `Conv2D` call to the Keras 2 API: `Conv2D(20, (3, 3), activation=\"relu\")`\n",
            "  \"\"\"\n",
            "/usr/local/lib/python3.6/dist-packages/ipykernel_launcher.py:6: UserWarning: Update your `Conv2D` call to the Keras 2 API: `Conv2D(13, (1, 1), activation=\"relu\")`\n",
            "  \n",
            "/usr/local/lib/python3.6/dist-packages/ipykernel_launcher.py:8: UserWarning: Update your `Conv2D` call to the Keras 2 API: `Conv2D(13, (3, 3), activation=\"relu\")`\n",
            "  \n",
            "/usr/local/lib/python3.6/dist-packages/ipykernel_launcher.py:9: UserWarning: Update your `Conv2D` call to the Keras 2 API: `Conv2D(13, (3, 3), activation=\"relu\")`\n",
            "  if __name__ == '__main__':\n",
            "/usr/local/lib/python3.6/dist-packages/ipykernel_launcher.py:10: UserWarning: Update your `Conv2D` call to the Keras 2 API: `Conv2D(20, (3, 3), activation=\"relu\")`\n",
            "  # Remove the CWD from sys.path while we load stuff.\n"
          ],
          "name": "stderr"
        },
        {
          "output_type": "stream",
          "text": [
            "Model: \"sequential_34\"\n",
            "_________________________________________________________________\n",
            "Layer (type)                 Output Shape              Param #   \n",
            "=================================================================\n",
            "conv2d_277 (Conv2D)          (None, 26, 26, 12)        120       \n",
            "_________________________________________________________________\n",
            "conv2d_278 (Conv2D)          (None, 24, 24, 13)        1417      \n",
            "_________________________________________________________________\n",
            "conv2d_279 (Conv2D)          (None, 22, 22, 20)        2360      \n",
            "_________________________________________________________________\n",
            "conv2d_280 (Conv2D)          (None, 22, 22, 13)        273       \n",
            "_________________________________________________________________\n",
            "max_pooling2d_34 (MaxPooling (None, 11, 11, 13)        0         \n",
            "_________________________________________________________________\n",
            "conv2d_281 (Conv2D)          (None, 9, 9, 13)          1534      \n",
            "_________________________________________________________________\n",
            "conv2d_282 (Conv2D)          (None, 7, 7, 13)          1534      \n",
            "_________________________________________________________________\n",
            "conv2d_283 (Conv2D)          (None, 5, 5, 20)          2360      \n",
            "_________________________________________________________________\n",
            "conv2d_284 (Conv2D)          (None, 1, 1, 10)          5010      \n",
            "_________________________________________________________________\n",
            "flatten_33 (Flatten)         (None, 10)                0         \n",
            "_________________________________________________________________\n",
            "activation_33 (Activation)   (None, 10)                0         \n",
            "=================================================================\n",
            "Total params: 14,608\n",
            "Trainable params: 14,608\n",
            "Non-trainable params: 0\n",
            "_________________________________________________________________\n",
            "Train on 60000 samples, validate on 10000 samples\n",
            "Epoch 1/20\n",
            "60000/60000 [==============================] - 34s 568us/step - loss: 0.2223 - acc: 0.9309 - val_loss: 0.0744 - val_acc: 0.9768\n",
            "Epoch 2/20\n",
            "60000/60000 [==============================] - 27s 446us/step - loss: 0.0718 - acc: 0.9782 - val_loss: 0.0498 - val_acc: 0.9846\n",
            "Epoch 3/20\n",
            "60000/60000 [==============================] - 27s 449us/step - loss: 0.0515 - acc: 0.9842 - val_loss: 0.0399 - val_acc: 0.9874\n",
            "Epoch 4/20\n",
            "60000/60000 [==============================] - 27s 447us/step - loss: 0.0428 - acc: 0.9865 - val_loss: 0.0319 - val_acc: 0.9897\n",
            "Epoch 5/20\n",
            "60000/60000 [==============================] - 27s 450us/step - loss: 0.0355 - acc: 0.9887 - val_loss: 0.0365 - val_acc: 0.9888\n",
            "Epoch 6/20\n",
            "60000/60000 [==============================] - 27s 445us/step - loss: 0.0317 - acc: 0.9899 - val_loss: 0.0370 - val_acc: 0.9876\n",
            "Epoch 7/20\n",
            "60000/60000 [==============================] - 27s 445us/step - loss: 0.0279 - acc: 0.9912 - val_loss: 0.0304 - val_acc: 0.9909\n",
            "Epoch 8/20\n",
            "60000/60000 [==============================] - 27s 444us/step - loss: 0.0246 - acc: 0.9920 - val_loss: 0.0390 - val_acc: 0.9884\n",
            "Epoch 9/20\n",
            "60000/60000 [==============================] - 27s 446us/step - loss: 0.0214 - acc: 0.9929 - val_loss: 0.0349 - val_acc: 0.9897\n",
            "Epoch 10/20\n",
            "60000/60000 [==============================] - 27s 449us/step - loss: 0.0206 - acc: 0.9934 - val_loss: 0.0386 - val_acc: 0.9893\n",
            "Epoch 11/20\n",
            "60000/60000 [==============================] - 27s 444us/step - loss: 0.0180 - acc: 0.9941 - val_loss: 0.0333 - val_acc: 0.9899\n",
            "Epoch 12/20\n",
            "60000/60000 [==============================] - 27s 444us/step - loss: 0.0173 - acc: 0.9944 - val_loss: 0.0394 - val_acc: 0.9891\n",
            "Epoch 13/20\n",
            "60000/60000 [==============================] - 27s 445us/step - loss: 0.0155 - acc: 0.9949 - val_loss: 0.0366 - val_acc: 0.9912\n",
            "Epoch 14/20\n",
            "60000/60000 [==============================] - 27s 445us/step - loss: 0.0151 - acc: 0.9949 - val_loss: 0.0372 - val_acc: 0.9894\n",
            "Epoch 15/20\n",
            "60000/60000 [==============================] - 27s 442us/step - loss: 0.0140 - acc: 0.9953 - val_loss: 0.0464 - val_acc: 0.9888\n",
            "Epoch 16/20\n",
            "60000/60000 [==============================] - 27s 444us/step - loss: 0.0128 - acc: 0.9960 - val_loss: 0.0407 - val_acc: 0.9904\n",
            "Epoch 17/20\n",
            "60000/60000 [==============================] - 27s 447us/step - loss: 0.0132 - acc: 0.9953 - val_loss: 0.0397 - val_acc: 0.9894\n",
            "Epoch 18/20\n",
            "60000/60000 [==============================] - 27s 445us/step - loss: 0.0122 - acc: 0.9960 - val_loss: 0.0413 - val_acc: 0.9901\n",
            "Epoch 19/20\n",
            "60000/60000 [==============================] - 27s 444us/step - loss: 0.0109 - acc: 0.9963 - val_loss: 0.0481 - val_acc: 0.9890\n",
            "Epoch 20/20\n",
            "60000/60000 [==============================] - 27s 447us/step - loss: 0.0110 - acc: 0.9962 - val_loss: 0.0491 - val_acc: 0.9884\n",
            "[0.04908664117021508, 0.9884]\n"
          ],
          "name": "stdout"
        }
      ]
    },
    {
      "cell_type": "markdown",
      "metadata": {
        "id": "kcyj02Zxisyp",
        "colab_type": "text"
      },
      "source": [
        "Now the accuracy of Vanilla Network is 98.84"
      ]
    },
    {
      "cell_type": "markdown",
      "metadata": {
        "id": "-4ht2SwEjG67",
        "colab_type": "text"
      },
      "source": [
        "SECOND CODE BLOCK BatchNormalisation added to monitor the acccuracy Improvement\n",
        "\n",
        "BatchNormalisation added after relu.\n",
        "\n",
        "I have added BN after 1st convolution and 5th convolution"
      ]
    },
    {
      "cell_type": "code",
      "metadata": {
        "id": "LJBSHX1jtsJS",
        "colab_type": "code",
        "outputId": "0866069b-87d0-4b46-9955-763e20e205fb",
        "colab": {
          "base_uri": "https://localhost:8080/",
          "height": 1000
        }
      },
      "source": [
        "from keras.layers import Activation\n",
        "model = Sequential()\n",
        "model.add(Convolution2D(12, 3, 3, activation='relu', input_shape=(28,28,1)))  # 26 and receptive field 3\n",
        "model.add(BatchNormalization())\n",
        "model.add(Convolution2D(13, 3, 3, activation='relu')) # 24 and receptive field 5\n",
        "model.add(Convolution2D(20, 3, 3, activation='relu')) # 22 and receptive field 7\n",
        "model.add(Convolution2D(13, 1, 1, activation='relu')) # 22 and receptive field 7\n",
        "model.add(MaxPooling2D(pool_size=(2, 2)))  # 11 and receptive field 14\n",
        "model.add(Convolution2D(13, 3, 3, activation='relu'))  # 9 and receptive field 16\n",
        "model.add(BatchNormalization())\n",
        "model.add(Convolution2D(13, 3, 3, activation='relu'))  # 7 and receptive field 18\n",
        "model.add(Convolution2D(20, 3, 3, activation='relu'))  # 5 and receptive field 20\n",
        "model.add(Convolution2D(10, 5))  # 1 and receptive field 22\n",
        "model.add(Flatten())\n",
        "model.add(Activation('softmax'))\n",
        "model.summary()\n",
        "model.compile(loss='categorical_crossentropy',\n",
        "             optimizer='adam',\n",
        "             metrics=['accuracy'])\n",
        "model.fit(X_train, Y_train, batch_size=32, \n",
        "          epochs=20, verbose=1, \n",
        "          validation_data=(X_test, Y_test))\n",
        "score = model.evaluate(X_test, Y_test, verbose=0)\n",
        "print(score)"
      ],
      "execution_count": 0,
      "outputs": [
        {
          "output_type": "stream",
          "text": [
            "/usr/local/lib/python3.6/dist-packages/ipykernel_launcher.py:3: UserWarning: Update your `Conv2D` call to the Keras 2 API: `Conv2D(12, (3, 3), activation=\"relu\", input_shape=(28, 28, 1...)`\n",
            "  This is separate from the ipykernel package so we can avoid doing imports until\n",
            "/usr/local/lib/python3.6/dist-packages/ipykernel_launcher.py:5: UserWarning: Update your `Conv2D` call to the Keras 2 API: `Conv2D(13, (3, 3), activation=\"relu\")`\n",
            "  \"\"\"\n",
            "/usr/local/lib/python3.6/dist-packages/ipykernel_launcher.py:6: UserWarning: Update your `Conv2D` call to the Keras 2 API: `Conv2D(20, (3, 3), activation=\"relu\")`\n",
            "  \n",
            "/usr/local/lib/python3.6/dist-packages/ipykernel_launcher.py:7: UserWarning: Update your `Conv2D` call to the Keras 2 API: `Conv2D(13, (1, 1), activation=\"relu\")`\n",
            "  import sys\n",
            "/usr/local/lib/python3.6/dist-packages/ipykernel_launcher.py:9: UserWarning: Update your `Conv2D` call to the Keras 2 API: `Conv2D(13, (3, 3), activation=\"relu\")`\n",
            "  if __name__ == '__main__':\n",
            "/usr/local/lib/python3.6/dist-packages/ipykernel_launcher.py:11: UserWarning: Update your `Conv2D` call to the Keras 2 API: `Conv2D(13, (3, 3), activation=\"relu\")`\n",
            "  # This is added back by InteractiveShellApp.init_path()\n",
            "/usr/local/lib/python3.6/dist-packages/ipykernel_launcher.py:12: UserWarning: Update your `Conv2D` call to the Keras 2 API: `Conv2D(20, (3, 3), activation=\"relu\")`\n",
            "  if sys.path[0] == '':\n"
          ],
          "name": "stderr"
        },
        {
          "output_type": "stream",
          "text": [
            "Model: \"sequential_37\"\n",
            "_________________________________________________________________\n",
            "Layer (type)                 Output Shape              Param #   \n",
            "=================================================================\n",
            "conv2d_301 (Conv2D)          (None, 26, 26, 12)        120       \n",
            "_________________________________________________________________\n",
            "batch_normalization_117 (Bat (None, 26, 26, 12)        48        \n",
            "_________________________________________________________________\n",
            "conv2d_302 (Conv2D)          (None, 24, 24, 13)        1417      \n",
            "_________________________________________________________________\n",
            "conv2d_303 (Conv2D)          (None, 22, 22, 20)        2360      \n",
            "_________________________________________________________________\n",
            "conv2d_304 (Conv2D)          (None, 22, 22, 13)        273       \n",
            "_________________________________________________________________\n",
            "max_pooling2d_37 (MaxPooling (None, 11, 11, 13)        0         \n",
            "_________________________________________________________________\n",
            "conv2d_305 (Conv2D)          (None, 9, 9, 13)          1534      \n",
            "_________________________________________________________________\n",
            "batch_normalization_118 (Bat (None, 9, 9, 13)          52        \n",
            "_________________________________________________________________\n",
            "conv2d_306 (Conv2D)          (None, 7, 7, 13)          1534      \n",
            "_________________________________________________________________\n",
            "conv2d_307 (Conv2D)          (None, 5, 5, 20)          2360      \n",
            "_________________________________________________________________\n",
            "conv2d_308 (Conv2D)          (None, 1, 1, 10)          5010      \n",
            "_________________________________________________________________\n",
            "flatten_36 (Flatten)         (None, 10)                0         \n",
            "_________________________________________________________________\n",
            "activation_36 (Activation)   (None, 10)                0         \n",
            "=================================================================\n",
            "Total params: 14,708\n",
            "Trainable params: 14,658\n",
            "Non-trainable params: 50\n",
            "_________________________________________________________________\n",
            "Train on 60000 samples, validate on 10000 samples\n",
            "Epoch 1/20\n",
            "60000/60000 [==============================] - 38s 641us/step - loss: 0.1476 - acc: 0.9537 - val_loss: 0.0508 - val_acc: 0.9824\n",
            "Epoch 2/20\n",
            "60000/60000 [==============================] - 30s 505us/step - loss: 0.0558 - acc: 0.9822 - val_loss: 0.0459 - val_acc: 0.9865\n",
            "Epoch 3/20\n",
            "60000/60000 [==============================] - 31s 509us/step - loss: 0.0399 - acc: 0.9875 - val_loss: 0.0668 - val_acc: 0.9820\n",
            "Epoch 4/20\n",
            "60000/60000 [==============================] - 30s 507us/step - loss: 0.0353 - acc: 0.9886 - val_loss: 0.0328 - val_acc: 0.9893\n",
            "Epoch 5/20\n",
            "60000/60000 [==============================] - 30s 508us/step - loss: 0.0296 - acc: 0.9905 - val_loss: 0.0402 - val_acc: 0.9870\n",
            "Epoch 6/20\n",
            "60000/60000 [==============================] - 30s 506us/step - loss: 0.0262 - acc: 0.9915 - val_loss: 0.0378 - val_acc: 0.9886\n",
            "Epoch 7/20\n",
            "60000/60000 [==============================] - 30s 507us/step - loss: 0.0239 - acc: 0.9927 - val_loss: 0.0353 - val_acc: 0.9894\n",
            "Epoch 8/20\n",
            "60000/60000 [==============================] - 30s 504us/step - loss: 0.0218 - acc: 0.9925 - val_loss: 0.0401 - val_acc: 0.9872\n",
            "Epoch 9/20\n",
            "60000/60000 [==============================] - 31s 509us/step - loss: 0.0187 - acc: 0.9940 - val_loss: 0.0441 - val_acc: 0.9875\n",
            "Epoch 10/20\n",
            "60000/60000 [==============================] - 30s 504us/step - loss: 0.0175 - acc: 0.9942 - val_loss: 0.0355 - val_acc: 0.9894\n",
            "Epoch 11/20\n",
            "60000/60000 [==============================] - 30s 506us/step - loss: 0.0161 - acc: 0.9946 - val_loss: 0.0340 - val_acc: 0.9899\n",
            "Epoch 12/20\n",
            "60000/60000 [==============================] - 30s 504us/step - loss: 0.0152 - acc: 0.9953 - val_loss: 0.0319 - val_acc: 0.9910\n",
            "Epoch 13/20\n",
            "60000/60000 [==============================] - 30s 507us/step - loss: 0.0149 - acc: 0.9952 - val_loss: 0.0408 - val_acc: 0.9873\n",
            "Epoch 14/20\n",
            "60000/60000 [==============================] - 30s 503us/step - loss: 0.0134 - acc: 0.9954 - val_loss: 0.0544 - val_acc: 0.9873\n",
            "Epoch 15/20\n",
            "60000/60000 [==============================] - 30s 503us/step - loss: 0.0119 - acc: 0.9960 - val_loss: 0.0324 - val_acc: 0.9912\n",
            "Epoch 16/20\n",
            "60000/60000 [==============================] - 30s 504us/step - loss: 0.0115 - acc: 0.9965 - val_loss: 0.0387 - val_acc: 0.9897\n",
            "Epoch 17/20\n",
            "60000/60000 [==============================] - 30s 504us/step - loss: 0.0118 - acc: 0.9960 - val_loss: 0.0301 - val_acc: 0.9908\n",
            "Epoch 18/20\n",
            "60000/60000 [==============================] - 30s 504us/step - loss: 0.0101 - acc: 0.9967 - val_loss: 0.0361 - val_acc: 0.9914\n",
            "Epoch 19/20\n",
            "60000/60000 [==============================] - 31s 513us/step - loss: 0.0098 - acc: 0.9966 - val_loss: 0.0347 - val_acc: 0.9923\n",
            "Epoch 20/20\n",
            "60000/60000 [==============================] - 30s 507us/step - loss: 0.0096 - acc: 0.9967 - val_loss: 0.0386 - val_acc: 0.9914\n",
            "[0.038609200769731525, 0.9914]\n"
          ],
          "name": "stdout"
        }
      ]
    },
    {
      "cell_type": "markdown",
      "metadata": {
        "id": "rgruKR0tEWz5",
        "colab_type": "text"
      },
      "source": [
        "Batch normalization is a technique for training very deep neural networks that standardizes the inputs to a layer for each mini-batch and stabilizes the learning process.\n",
        "\n",
        "reduces need to get highly tuned hyper-parameters , helps to train network faster\n",
        "\n",
        "Now Validation accurecy is higher i.e(99.02) then the previous network i.e Code Block1's accuracy"
      ]
    },
    {
      "cell_type": "code",
      "metadata": {
        "id": "0kxvKrISjYii",
        "colab_type": "code",
        "colab": {}
      },
      "source": [
        "CODEBLOCK3 added dropout"
      ],
      "execution_count": 0,
      "outputs": []
    },
    {
      "cell_type": "code",
      "metadata": {
        "id": "XAifufAFEgVW",
        "colab_type": "code",
        "outputId": "cfa626cf-b38a-4f1e-eeb7-ae6e066c9163",
        "colab": {
          "base_uri": "https://localhost:8080/",
          "height": 1000
        }
      },
      "source": [
        "from keras.layers import Activation\n",
        "model = Sequential()\n",
        "model.add(Convolution2D(12, 3, 3, activation='relu', input_shape=(28,28,1)))  # 26 and receptive field 3\n",
        "model.add(BatchNormalization())\n",
        "model.add(Dropout(0.1))\n",
        "model.add(Convolution2D(13, 3, 3, activation='relu'))  # 24 and receptive field 5\n",
        "model.add(Convolution2D(20, 3, 3, activation='relu'))  # 22 and receptive field 7\n",
        "model.add(Convolution2D(13, 1, 1, activation='relu'))  # 22 and receptive field 7\n",
        "model.add(MaxPooling2D(pool_size=(2, 2)))  # 11 and receptive field 14\n",
        "model.add(Convolution2D(13, 3, 3, activation='relu')) # 9 and receptive field 16\n",
        "model.add(BatchNormalization())\n",
        "model.add(Dropout(0.1))\n",
        "model.add(Convolution2D(13, 3, 3, activation='relu'))  # 7 and receptive field 18\n",
        "model.add(Convolution2D(20, 3, 3, activation='relu'))  # 5 and receptive field 20\n",
        "\n",
        "model.add(Convolution2D(10, 5))# 1 and receptive field 22\n",
        "model.add(Flatten())\n",
        "model.add(Activation('softmax'))\n",
        "model.summary()\n",
        "model.compile(loss='categorical_crossentropy',\n",
        "             optimizer='adam',\n",
        "             metrics=['accuracy'])\n",
        "model.fit(X_train, Y_train, batch_size=32, \n",
        "          epochs=20, verbose=1, \n",
        "          validation_data=(X_test, Y_test))\n",
        "score = model.evaluate(X_test, Y_test, verbose=0)\n",
        "print(score)"
      ],
      "execution_count": 0,
      "outputs": [
        {
          "output_type": "stream",
          "text": [
            "/usr/local/lib/python3.6/dist-packages/ipykernel_launcher.py:3: UserWarning: Update your `Conv2D` call to the Keras 2 API: `Conv2D(12, (3, 3), activation=\"relu\", input_shape=(28, 28, 1...)`\n",
            "  This is separate from the ipykernel package so we can avoid doing imports until\n",
            "/usr/local/lib/python3.6/dist-packages/ipykernel_launcher.py:6: UserWarning: Update your `Conv2D` call to the Keras 2 API: `Conv2D(13, (3, 3), activation=\"relu\")`\n",
            "  \n",
            "/usr/local/lib/python3.6/dist-packages/ipykernel_launcher.py:7: UserWarning: Update your `Conv2D` call to the Keras 2 API: `Conv2D(20, (3, 3), activation=\"relu\")`\n",
            "  import sys\n",
            "/usr/local/lib/python3.6/dist-packages/ipykernel_launcher.py:8: UserWarning: Update your `Conv2D` call to the Keras 2 API: `Conv2D(13, (1, 1), activation=\"relu\")`\n",
            "  \n",
            "/usr/local/lib/python3.6/dist-packages/ipykernel_launcher.py:10: UserWarning: Update your `Conv2D` call to the Keras 2 API: `Conv2D(13, (3, 3), activation=\"relu\")`\n",
            "  # Remove the CWD from sys.path while we load stuff.\n",
            "/usr/local/lib/python3.6/dist-packages/ipykernel_launcher.py:13: UserWarning: Update your `Conv2D` call to the Keras 2 API: `Conv2D(13, (3, 3), activation=\"relu\")`\n",
            "  del sys.path[0]\n",
            "/usr/local/lib/python3.6/dist-packages/ipykernel_launcher.py:14: UserWarning: Update your `Conv2D` call to the Keras 2 API: `Conv2D(20, (3, 3), activation=\"relu\")`\n",
            "  \n"
          ],
          "name": "stderr"
        },
        {
          "output_type": "stream",
          "text": [
            "Model: \"sequential_36\"\n",
            "_________________________________________________________________\n",
            "Layer (type)                 Output Shape              Param #   \n",
            "=================================================================\n",
            "conv2d_293 (Conv2D)          (None, 26, 26, 12)        120       \n",
            "_________________________________________________________________\n",
            "batch_normalization_115 (Bat (None, 26, 26, 12)        48        \n",
            "_________________________________________________________________\n",
            "dropout_91 (Dropout)         (None, 26, 26, 12)        0         \n",
            "_________________________________________________________________\n",
            "conv2d_294 (Conv2D)          (None, 24, 24, 13)        1417      \n",
            "_________________________________________________________________\n",
            "conv2d_295 (Conv2D)          (None, 22, 22, 20)        2360      \n",
            "_________________________________________________________________\n",
            "conv2d_296 (Conv2D)          (None, 22, 22, 13)        273       \n",
            "_________________________________________________________________\n",
            "max_pooling2d_36 (MaxPooling (None, 11, 11, 13)        0         \n",
            "_________________________________________________________________\n",
            "conv2d_297 (Conv2D)          (None, 9, 9, 13)          1534      \n",
            "_________________________________________________________________\n",
            "batch_normalization_116 (Bat (None, 9, 9, 13)          52        \n",
            "_________________________________________________________________\n",
            "dropout_92 (Dropout)         (None, 9, 9, 13)          0         \n",
            "_________________________________________________________________\n",
            "conv2d_298 (Conv2D)          (None, 7, 7, 13)          1534      \n",
            "_________________________________________________________________\n",
            "conv2d_299 (Conv2D)          (None, 5, 5, 20)          2360      \n",
            "_________________________________________________________________\n",
            "conv2d_300 (Conv2D)          (None, 1, 1, 10)          5010      \n",
            "_________________________________________________________________\n",
            "flatten_35 (Flatten)         (None, 10)                0         \n",
            "_________________________________________________________________\n",
            "activation_35 (Activation)   (None, 10)                0         \n",
            "=================================================================\n",
            "Total params: 14,708\n",
            "Trainable params: 14,658\n",
            "Non-trainable params: 50\n",
            "_________________________________________________________________\n",
            "Train on 60000 samples, validate on 10000 samples\n",
            "Epoch 1/20\n",
            "60000/60000 [==============================] - 40s 671us/step - loss: 0.1670 - acc: 0.9486 - val_loss: 0.0611 - val_acc: 0.9809\n",
            "Epoch 2/20\n",
            "60000/60000 [==============================] - 32s 539us/step - loss: 0.0620 - acc: 0.9805 - val_loss: 0.0434 - val_acc: 0.9866\n",
            "Epoch 3/20\n",
            "60000/60000 [==============================] - 32s 532us/step - loss: 0.0486 - acc: 0.9854 - val_loss: 0.0393 - val_acc: 0.9884\n",
            "Epoch 4/20\n",
            "60000/60000 [==============================] - 32s 532us/step - loss: 0.0421 - acc: 0.9866 - val_loss: 0.0362 - val_acc: 0.9889\n",
            "Epoch 5/20\n",
            "60000/60000 [==============================] - 32s 531us/step - loss: 0.0351 - acc: 0.9894 - val_loss: 0.0343 - val_acc: 0.9900\n",
            "Epoch 6/20\n",
            "60000/60000 [==============================] - 32s 530us/step - loss: 0.0338 - acc: 0.9889 - val_loss: 0.0297 - val_acc: 0.9908\n",
            "Epoch 7/20\n",
            "60000/60000 [==============================] - 32s 534us/step - loss: 0.0292 - acc: 0.9906 - val_loss: 0.0360 - val_acc: 0.9900\n",
            "Epoch 8/20\n",
            "60000/60000 [==============================] - 32s 530us/step - loss: 0.0276 - acc: 0.9909 - val_loss: 0.0382 - val_acc: 0.9897\n",
            "Epoch 9/20\n",
            "60000/60000 [==============================] - 32s 528us/step - loss: 0.0243 - acc: 0.9922 - val_loss: 0.0366 - val_acc: 0.9891\n",
            "Epoch 10/20\n",
            "60000/60000 [==============================] - 32s 529us/step - loss: 0.0221 - acc: 0.9929 - val_loss: 0.0320 - val_acc: 0.9904\n",
            "Epoch 11/20\n",
            "60000/60000 [==============================] - 32s 530us/step - loss: 0.0226 - acc: 0.9928 - val_loss: 0.0375 - val_acc: 0.9897\n",
            "Epoch 12/20\n",
            "60000/60000 [==============================] - 32s 536us/step - loss: 0.0203 - acc: 0.9932 - val_loss: 0.0375 - val_acc: 0.9902\n",
            "Epoch 13/20\n",
            "60000/60000 [==============================] - 32s 528us/step - loss: 0.0188 - acc: 0.9940 - val_loss: 0.0353 - val_acc: 0.9901\n",
            "Epoch 14/20\n",
            "60000/60000 [==============================] - 32s 528us/step - loss: 0.0182 - acc: 0.9941 - val_loss: 0.0377 - val_acc: 0.9910\n",
            "Epoch 15/20\n",
            "60000/60000 [==============================] - 32s 528us/step - loss: 0.0167 - acc: 0.9943 - val_loss: 0.0350 - val_acc: 0.9910\n",
            "Epoch 16/20\n",
            "60000/60000 [==============================] - 32s 529us/step - loss: 0.0160 - acc: 0.9948 - val_loss: 0.0391 - val_acc: 0.9904\n",
            "Epoch 17/20\n",
            "60000/60000 [==============================] - 32s 531us/step - loss: 0.0167 - acc: 0.9945 - val_loss: 0.0394 - val_acc: 0.9896\n",
            "Epoch 18/20\n",
            "60000/60000 [==============================] - 32s 528us/step - loss: 0.0153 - acc: 0.9950 - val_loss: 0.0373 - val_acc: 0.9907\n",
            "Epoch 19/20\n",
            "60000/60000 [==============================] - 32s 527us/step - loss: 0.0144 - acc: 0.9950 - val_loss: 0.0362 - val_acc: 0.9907\n",
            "Epoch 20/20\n",
            "60000/60000 [==============================] - 32s 528us/step - loss: 0.0146 - acc: 0.9949 - val_loss: 0.0329 - val_acc: 0.9917\n",
            "[0.03291756108689915, 0.9917]\n"
          ],
          "name": "stdout"
        }
      ]
    },
    {
      "cell_type": "markdown",
      "metadata": {
        "id": "ObVyRUUJEm8H",
        "colab_type": "text"
      },
      "source": [
        "Apply dropout for Reduces the gap between TestAcc and TrainAcc.\n",
        "\n",
        "Validation Accuracy 99.17"
      ]
    },
    {
      "cell_type": "markdown",
      "metadata": {
        "id": "S0ZO92O_jiiM",
        "colab_type": "text"
      },
      "source": [
        "CODEBLOCK-4"
      ]
    },
    {
      "cell_type": "code",
      "metadata": {
        "id": "afiuqIBgaKGA",
        "colab_type": "code",
        "outputId": "b23459e8-245a-4bf2-d8f0-e79768332217",
        "colab": {
          "base_uri": "https://localhost:8080/",
          "height": 1000
        }
      },
      "source": [
        "from keras.layers import Activation\n",
        "model = Sequential()\n",
        "model.add(Convolution2D(12, 3, 3, activation='relu', input_shape=(28,28,1)))  # 26 and receptive field 3\n",
        "model.add(BatchNormalization())\n",
        "model.add(Dropout(0.1))\n",
        "model.add(Convolution2D(13, 3, 3, activation='relu'))  # 24 and receptive field 5\n",
        "model.add(BatchNormalization())\n",
        "model.add(Dropout(0.1))\n",
        "\n",
        "model.add(Convolution2D(20, 3, 3, activation='relu'))  # 22 and receptive field 7\n",
        "\n",
        "model.add(Convolution2D(13, 1, 1, activation='relu'))  # 22 and receptive field 7\n",
        "model.add(MaxPooling2D(pool_size=(2, 2)))  # 11 and receptive field 14\n",
        "\n",
        "model.add(Convolution2D(13, 3, 3, activation='relu'))  # 9 and receptive field 16\n",
        "model.add(BatchNormalization())\n",
        "model.add(Dropout(0.1))\n",
        "model.add(Convolution2D(13, 3, 3, activation='relu'))  # 7 and receptive field 18\n",
        "model.add(BatchNormalization())\n",
        "model.add(Convolution2D(20, 3, 3, activation='relu'))  # 5 and receptive field 20\n",
        "model.add(BatchNormalization())\n",
        "model.add(Dropout(0.1))\n",
        "model.add(Convolution2D(10, 5))  # 1 and receptive field 22\n",
        "model.add(Dropout(0.1))\n",
        "model.add(Flatten())\n",
        "model.add(Activation('softmax'))\n",
        "model.summary()\n",
        "model.compile(loss='categorical_crossentropy',\n",
        "             optimizer='adam',\n",
        "             metrics=['accuracy'])\n",
        "model.fit(X_train, Y_train, batch_size=32, \n",
        "          epochs=20, verbose=1, \n",
        "          validation_data=(X_test, Y_test))\n",
        "score = model.evaluate(X_test, Y_test, verbose=0)\n",
        "print(score)"
      ],
      "execution_count": 0,
      "outputs": [
        {
          "output_type": "stream",
          "text": [
            "/usr/local/lib/python3.6/dist-packages/ipykernel_launcher.py:3: UserWarning: Update your `Conv2D` call to the Keras 2 API: `Conv2D(12, (3, 3), activation=\"relu\", input_shape=(28, 28, 1...)`\n",
            "  This is separate from the ipykernel package so we can avoid doing imports until\n",
            "/usr/local/lib/python3.6/dist-packages/ipykernel_launcher.py:6: UserWarning: Update your `Conv2D` call to the Keras 2 API: `Conv2D(13, (3, 3), activation=\"relu\")`\n",
            "  \n",
            "/usr/local/lib/python3.6/dist-packages/ipykernel_launcher.py:10: UserWarning: Update your `Conv2D` call to the Keras 2 API: `Conv2D(20, (3, 3), activation=\"relu\")`\n",
            "  # Remove the CWD from sys.path while we load stuff.\n",
            "/usr/local/lib/python3.6/dist-packages/ipykernel_launcher.py:12: UserWarning: Update your `Conv2D` call to the Keras 2 API: `Conv2D(13, (1, 1), activation=\"relu\")`\n",
            "  if sys.path[0] == '':\n",
            "/usr/local/lib/python3.6/dist-packages/ipykernel_launcher.py:15: UserWarning: Update your `Conv2D` call to the Keras 2 API: `Conv2D(13, (3, 3), activation=\"relu\")`\n",
            "  from ipykernel import kernelapp as app\n",
            "/usr/local/lib/python3.6/dist-packages/ipykernel_launcher.py:18: UserWarning: Update your `Conv2D` call to the Keras 2 API: `Conv2D(13, (3, 3), activation=\"relu\")`\n",
            "/usr/local/lib/python3.6/dist-packages/ipykernel_launcher.py:20: UserWarning: Update your `Conv2D` call to the Keras 2 API: `Conv2D(20, (3, 3), activation=\"relu\")`\n"
          ],
          "name": "stderr"
        },
        {
          "output_type": "stream",
          "text": [
            "Model: \"sequential_33\"\n",
            "_________________________________________________________________\n",
            "Layer (type)                 Output Shape              Param #   \n",
            "=================================================================\n",
            "conv2d_269 (Conv2D)          (None, 26, 26, 12)        120       \n",
            "_________________________________________________________________\n",
            "batch_normalization_108 (Bat (None, 26, 26, 12)        48        \n",
            "_________________________________________________________________\n",
            "dropout_86 (Dropout)         (None, 26, 26, 12)        0         \n",
            "_________________________________________________________________\n",
            "conv2d_270 (Conv2D)          (None, 24, 24, 13)        1417      \n",
            "_________________________________________________________________\n",
            "batch_normalization_109 (Bat (None, 24, 24, 13)        52        \n",
            "_________________________________________________________________\n",
            "dropout_87 (Dropout)         (None, 24, 24, 13)        0         \n",
            "_________________________________________________________________\n",
            "conv2d_271 (Conv2D)          (None, 22, 22, 20)        2360      \n",
            "_________________________________________________________________\n",
            "conv2d_272 (Conv2D)          (None, 22, 22, 13)        273       \n",
            "_________________________________________________________________\n",
            "max_pooling2d_33 (MaxPooling (None, 11, 11, 13)        0         \n",
            "_________________________________________________________________\n",
            "conv2d_273 (Conv2D)          (None, 9, 9, 13)          1534      \n",
            "_________________________________________________________________\n",
            "batch_normalization_110 (Bat (None, 9, 9, 13)          52        \n",
            "_________________________________________________________________\n",
            "dropout_88 (Dropout)         (None, 9, 9, 13)          0         \n",
            "_________________________________________________________________\n",
            "conv2d_274 (Conv2D)          (None, 7, 7, 13)          1534      \n",
            "_________________________________________________________________\n",
            "batch_normalization_111 (Bat (None, 7, 7, 13)          52        \n",
            "_________________________________________________________________\n",
            "conv2d_275 (Conv2D)          (None, 5, 5, 20)          2360      \n",
            "_________________________________________________________________\n",
            "batch_normalization_112 (Bat (None, 5, 5, 20)          80        \n",
            "_________________________________________________________________\n",
            "dropout_89 (Dropout)         (None, 5, 5, 20)          0         \n",
            "_________________________________________________________________\n",
            "conv2d_276 (Conv2D)          (None, 1, 1, 10)          5010      \n",
            "_________________________________________________________________\n",
            "dropout_90 (Dropout)         (None, 1, 1, 10)          0         \n",
            "_________________________________________________________________\n",
            "flatten_32 (Flatten)         (None, 10)                0         \n",
            "_________________________________________________________________\n",
            "activation_32 (Activation)   (None, 10)                0         \n",
            "=================================================================\n",
            "Total params: 14,892\n",
            "Trainable params: 14,750\n",
            "Non-trainable params: 142\n",
            "_________________________________________________________________\n",
            "Train on 60000 samples, validate on 10000 samples\n",
            "Epoch 1/20\n",
            "60000/60000 [==============================] - 47s 778us/step - loss: 0.3009 - acc: 0.8927 - val_loss: 0.0793 - val_acc: 0.9745\n",
            "Epoch 2/20\n",
            "60000/60000 [==============================] - 39s 644us/step - loss: 0.1395 - acc: 0.9426 - val_loss: 0.0358 - val_acc: 0.9888\n",
            "Epoch 3/20\n",
            "60000/60000 [==============================] - 39s 647us/step - loss: 0.1203 - acc: 0.9469 - val_loss: 0.0339 - val_acc: 0.9893\n",
            "Epoch 4/20\n",
            "60000/60000 [==============================] - 39s 644us/step - loss: 0.1117 - acc: 0.9498 - val_loss: 0.0424 - val_acc: 0.9869\n",
            "Epoch 5/20\n",
            "60000/60000 [==============================] - 39s 644us/step - loss: 0.1037 - acc: 0.9521 - val_loss: 0.0343 - val_acc: 0.9893\n",
            "Epoch 6/20\n",
            "60000/60000 [==============================] - 39s 642us/step - loss: 0.1035 - acc: 0.9506 - val_loss: 0.0285 - val_acc: 0.9907\n",
            "Epoch 7/20\n",
            "60000/60000 [==============================] - 39s 650us/step - loss: 0.0985 - acc: 0.9520 - val_loss: 0.0291 - val_acc: 0.9907\n",
            "Epoch 8/20\n",
            "60000/60000 [==============================] - 39s 642us/step - loss: 0.0958 - acc: 0.9541 - val_loss: 0.0318 - val_acc: 0.9892\n",
            "Epoch 9/20\n",
            "60000/60000 [==============================] - 38s 641us/step - loss: 0.0931 - acc: 0.9552 - val_loss: 0.0294 - val_acc: 0.9916\n",
            "Epoch 10/20\n",
            "60000/60000 [==============================] - 38s 638us/step - loss: 0.0881 - acc: 0.9566 - val_loss: 0.0296 - val_acc: 0.9913\n",
            "Epoch 11/20\n",
            "60000/60000 [==============================] - 39s 653us/step - loss: 0.0905 - acc: 0.9544 - val_loss: 0.0276 - val_acc: 0.9923\n",
            "Epoch 12/20\n",
            "60000/60000 [==============================] - 39s 644us/step - loss: 0.0852 - acc: 0.9570 - val_loss: 0.0300 - val_acc: 0.9919\n",
            "Epoch 13/20\n",
            "60000/60000 [==============================] - 39s 645us/step - loss: 0.0862 - acc: 0.9562 - val_loss: 0.0276 - val_acc: 0.9918\n",
            "Epoch 14/20\n",
            "60000/60000 [==============================] - 39s 642us/step - loss: 0.0848 - acc: 0.9573 - val_loss: 0.0269 - val_acc: 0.9930\n",
            "Epoch 15/20\n",
            "60000/60000 [==============================] - 38s 640us/step - loss: 0.0832 - acc: 0.9572 - val_loss: 0.0224 - val_acc: 0.9936\n",
            "Epoch 16/20\n",
            "60000/60000 [==============================] - 38s 639us/step - loss: 0.0817 - acc: 0.9586 - val_loss: 0.0264 - val_acc: 0.9931\n",
            "Epoch 17/20\n",
            "60000/60000 [==============================] - 38s 637us/step - loss: 0.0814 - acc: 0.9579 - val_loss: 0.0283 - val_acc: 0.9919\n",
            "Epoch 18/20\n",
            "60000/60000 [==============================] - 39s 642us/step - loss: 0.0813 - acc: 0.9567 - val_loss: 0.0301 - val_acc: 0.9919\n",
            "Epoch 19/20\n",
            "60000/60000 [==============================] - 38s 640us/step - loss: 0.0797 - acc: 0.9578 - val_loss: 0.0242 - val_acc: 0.9934\n",
            "Epoch 20/20\n",
            "60000/60000 [==============================] - 39s 645us/step - loss: 0.0787 - acc: 0.9574 - val_loss: 0.0231 - val_acc: 0.9941\n",
            "[0.023069784523401905, 0.9941]\n"
          ],
          "name": "stdout"
        }
      ]
    },
    {
      "cell_type": "markdown",
      "metadata": {
        "id": "UiLK8OsiJekL",
        "colab_type": "text"
      },
      "source": [
        "Batch Normalization apply after every convolation layer and  reduces need to get highly tuned hyper-parameters , helps train network faster \n",
        "\n",
        "Bias get's subtracted out when Batch normalization is used \n",
        "\n",
        "Apply dropout after every convolution layer which Reduces the gap between TestAcc and TrainAcc \n",
        "\n",
        "Current network  trannig accuracy is less then the preveous network tranning accuracy.\n",
        "\n",
        "Now the Validation Accuracy is 99.41"
      ]
    }
  ]
}