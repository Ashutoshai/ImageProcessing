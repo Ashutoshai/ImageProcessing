{
  "nbformat": 4,
  "nbformat_minor": 0,
  "metadata": {
    "colab": {
      "name": "AshutoshPandaSession3.ipynb",
      "provenance": [],
      "collapsed_sections": [],
      "include_colab_link": true
    },
    "kernelspec": {
      "name": "python3",
      "display_name": "Python 3"
    },
    "accelerator": "GPU"
  },
  "cells": [
    {
      "cell_type": "markdown",
      "metadata": {
        "id": "view-in-github",
        "colab_type": "text"
      },
      "source": [
        "<a href=\"https://colab.research.google.com/github/Ashutoshai/ImageProcessing/blob/master/AshutoshPandaSession3.ipynb\" target=\"_parent\"><img src=\"https://colab.research.google.com/assets/colab-badge.svg\" alt=\"Open In Colab\"/></a>"
      ]
    },
    {
      "cell_type": "code",
      "metadata": {
        "id": "WDhe12PQolde",
        "colab_type": "code",
        "outputId": "d23516f0-adf9-4b13-c2b0-5538e6783e1c",
        "colab": {
          "base_uri": "https://localhost:8080/",
          "height": 34
        }
      },
      "source": [
        "# https://keras.io/\n",
        "!pip install -q keras\n",
        "import keras"
      ],
      "execution_count": 0,
      "outputs": [
        {
          "output_type": "stream",
          "text": [
            "Using TensorFlow backend.\n"
          ],
          "name": "stderr"
        }
      ]
    },
    {
      "cell_type": "code",
      "metadata": {
        "id": "2JKFwT7wownI",
        "colab_type": "code",
        "colab": {}
      },
      "source": [
        "import numpy as np\n",
        "\n",
        "from keras.models import Sequential\n",
        "from keras.layers import Dense, Dropout, Activation, Flatten, Add\n",
        "from keras.layers import Convolution2D, MaxPooling2D\n",
        "from keras.utils import np_utils\n",
        "\n",
        "from keras.datasets import mnist"
      ],
      "execution_count": 0,
      "outputs": []
    },
    {
      "cell_type": "markdown",
      "metadata": {
        "id": "Er6t9wQ8gmU2",
        "colab_type": "text"
      },
      "source": [
        "Importing Keras dependency and MNIST dataset"
      ]
    },
    {
      "cell_type": "code",
      "metadata": {
        "id": "MmBikNVTo0Dp",
        "colab_type": "code",
        "outputId": "a5f3a5bf-7c32-4c13-dd6f-3b432d44f247",
        "colab": {
          "base_uri": "https://localhost:8080/",
          "height": 51
        }
      },
      "source": [
        "(X_train, y_train), (X_test, y_test) = mnist.load_data()"
      ],
      "execution_count": 0,
      "outputs": [
        {
          "output_type": "stream",
          "text": [
            "Downloading data from https://s3.amazonaws.com/img-datasets/mnist.npz\n",
            "11493376/11490434 [==============================] - 2s 0us/step\n"
          ],
          "name": "stdout"
        }
      ]
    },
    {
      "cell_type": "markdown",
      "metadata": {
        "id": "t4vvc7u7WBGI",
        "colab_type": "text"
      },
      "source": [
        "Downloading the MNIST data.\n",
        "\n",
        "training set is a subset of the data set used to train a model.\n",
        "\n",
        "X_train is the training data set.\n",
        "\n",
        "y_train is the set of labels to all the data in x_train\n",
        "\n",
        "X_test is the test data set\n",
        "\n",
        "y_test is the set of labels to all the data in x_test"
      ]
    },
    {
      "cell_type": "code",
      "metadata": {
        "id": "uH0_UnTlo3jf",
        "colab_type": "code",
        "outputId": "6256be49-af48-400f-b1d2-bcbd3e5d943a",
        "colab": {
          "base_uri": "https://localhost:8080/",
          "height": 303
        }
      },
      "source": [
        "print (X_train.shape)\n",
        "from matplotlib import pyplot as plt\n",
        "%matplotlib inline\n",
        "plt.imshow(X_train[0])"
      ],
      "execution_count": 0,
      "outputs": [
        {
          "output_type": "stream",
          "text": [
            "(60000, 28, 28)\n"
          ],
          "name": "stdout"
        },
        {
          "output_type": "execute_result",
          "data": {
            "text/plain": [
              "<matplotlib.image.AxesImage at 0x7f2734a18b00>"
            ]
          },
          "metadata": {
            "tags": []
          },
          "execution_count": 4
        },
        {
          "output_type": "display_data",
          "data": {
            "image/png": "[encoded data removed]",
            "text/plain": [
              "<Figure size 432x288 with 1 Axes>"
            ]
          },
          "metadata": {
            "tags": []
          }
        }
      ]
    },
    {
      "cell_type": "markdown",
      "metadata": {
        "id": "QO1Ysj85WG--",
        "colab_type": "text"
      },
      "source": [
        "X_train.shape print the dimensionality of the sample\n",
        "\n",
        "plt.imgshow displays the image on the axes"
      ]
    },
    {
      "cell_type": "code",
      "metadata": {
        "id": "MMl6dhboo7pj",
        "colab_type": "code",
        "colab": {}
      },
      "source": [
        "X_train = X_train.reshape(X_train.shape[0], 28, 28,1)\n",
        "X_test = X_test.reshape(X_test.shape[0], 28, 28,1)\n"
      ],
      "execution_count": 0,
      "outputs": []
    },
    {
      "cell_type": "markdown",
      "metadata": {
        "id": "m8aNfkxoWK35",
        "colab_type": "text"
      },
      "source": [
        "transform our dataset to shape(0,depth(1),width(28),height(28))"
      ]
    },
    {
      "cell_type": "code",
      "metadata": {
        "id": "gSi0DT-YpAEo",
        "colab_type": "code",
        "colab": {}
      },
      "source": [
        "X_train = X_train.astype('float32')\n",
        "X_test = X_test.astype('float32')\n",
        "X_train /= 255\n",
        "X_test /= 255"
      ],
      "execution_count": 0,
      "outputs": []
    },
    {
      "cell_type": "markdown",
      "metadata": {
        "id": "wvy-FHSZWRVC",
        "colab_type": "text"
      },
      "source": [
        "\n",
        "convert our data type to float32 and normalize our data values to the range [0,1]"
      ]
    },
    {
      "cell_type": "code",
      "metadata": {
        "id": "0NjF8DoqpDk1",
        "colab_type": "code",
        "outputId": "72ce152c-6fd8-4fb0-8395-4cdd18cfa25e",
        "colab": {
          "base_uri": "https://localhost:8080/",
          "height": 34
        }
      },
      "source": [
        "y_train[:10]"
      ],
      "execution_count": 0,
      "outputs": [
        {
          "output_type": "execute_result",
          "data": {
            "text/plain": [
              "array([5, 0, 4, 1, 9, 2, 1, 3, 1, 4], dtype=uint8)"
            ]
          },
          "metadata": {
            "tags": []
          },
          "execution_count": 7
        }
      ]
    },
    {
      "cell_type": "markdown",
      "metadata": {
        "id": "pZ0YUR5IWVK2",
        "colab_type": "text"
      },
      "source": [
        "\n",
        "picking first 10 training samples"
      ]
    },
    {
      "cell_type": "code",
      "metadata": {
        "id": "SrPA589IpHGN",
        "colab_type": "code",
        "colab": {}
      },
      "source": [
        "# Convert 1-dimensional class arrays to 10-dimensional class matrices\n",
        "Y_train = np_utils.to_categorical(y_train, 10)\n",
        "Y_test = np_utils.to_categorical(y_test, 10)"
      ],
      "execution_count": 0,
      "outputs": []
    },
    {
      "cell_type": "markdown",
      "metadata": {
        "id": "0CbnaJ4wWYs6",
        "colab_type": "text"
      },
      "source": [
        "splitting y_train and y_test data into 10 distinct class labels"
      ]
    },
    {
      "cell_type": "code",
      "metadata": {
        "id": "RfQJy6bepJ7j",
        "colab_type": "code",
        "outputId": "55b10af5-2e00-4ce3-ae6a-272acc692204",
        "colab": {
          "base_uri": "https://localhost:8080/",
          "height": 187
        }
      },
      "source": [
        "Y_train[:10]"
      ],
      "execution_count": 0,
      "outputs": [
        {
          "output_type": "execute_result",
          "data": {
            "text/plain": [
              "array([[0., 0., 0., 0., 0., 1., 0., 0., 0., 0.],\n",
              "       [1., 0., 0., 0., 0., 0., 0., 0., 0., 0.],\n",
              "       [0., 0., 0., 0., 1., 0., 0., 0., 0., 0.],\n",
              "       [0., 1., 0., 0., 0., 0., 0., 0., 0., 0.],\n",
              "       [0., 0., 0., 0., 0., 0., 0., 0., 0., 1.],\n",
              "       [0., 0., 1., 0., 0., 0., 0., 0., 0., 0.],\n",
              "       [0., 1., 0., 0., 0., 0., 0., 0., 0., 0.],\n",
              "       [0., 0., 0., 1., 0., 0., 0., 0., 0., 0.],\n",
              "       [0., 1., 0., 0., 0., 0., 0., 0., 0., 0.],\n",
              "       [0., 0., 0., 0., 1., 0., 0., 0., 0., 0.]], dtype=float32)"
            ]
          },
          "metadata": {
            "tags": []
          },
          "execution_count": 9
        }
      ]
    },
    {
      "cell_type": "markdown",
      "metadata": {
        "id": "r8T_CLd9WfX3",
        "colab_type": "text"
      },
      "source": [
        "Reserve 10X10 matrix for validation"
      ]
    },
    {
      "cell_type": "code",
      "metadata": {
        "id": "m-2G_0hrpNdb",
        "colab_type": "code",
        "outputId": "1ed09522-d2f1-444f-9b2e-e1eb2b7f9754",
        "colab": {
          "base_uri": "https://localhost:8080/",
          "height": 819
        }
      },
      "source": [
        "from keras.layers import Activation\n",
        "model = Sequential()\n",
        "\n",
        " \n",
        "model.add(Convolution2D(15, 3, 3, activation='relu', input_shape=(28,28,1))) # 26\n",
        "\n",
        "model.add(Convolution2D(15, 3, 3, activation='relu')) # 24\n",
        "model.add(Convolution2D(25, 3, 3, activation='relu')) # 22\n",
        "\n",
        "model.add(MaxPooling2D(pool_size=(2, 2))) # 11\n",
        "model.add(Convolution2D(15, 1, 1, activation='relu')) # 11\n",
        "\n",
        "model.add(Convolution2D(15, 3, 3, activation='relu')) # 9\n",
        "model.add(Convolution2D(25, 3, 3, activation='relu')) # 7\n",
        "\n",
        "model.add(Convolution2D(10, 1, activation='relu')) #7\n",
        "model.add(Convolution2D(10, 7))\n",
        "model.add(Flatten())\n",
        "model.add(Activation('softmax'))\n",
        "model.summary()"
      ],
      "execution_count": 0,
      "outputs": [
        {
          "output_type": "stream",
          "text": [
            "WARNING:tensorflow:From /usr/local/lib/python3.6/dist-packages/keras/backend/tensorflow_backend.py:66: The name tf.get_default_graph is deprecated. Please use tf.compat.v1.get_default_graph instead.\n",
            "\n",
            "WARNING:tensorflow:From /usr/local/lib/python3.6/dist-packages/keras/backend/tensorflow_backend.py:4267: The name tf.nn.max_pool is deprecated. Please use tf.nn.max_pool2d instead.\n",
            "\n",
            "Model: \"sequential_1\"\n",
            "_________________________________________________________________\n",
            "Layer (type)                 Output Shape              Param #   \n",
            "=================================================================\n",
            "conv2d_1 (Conv2D)            (None, 26, 26, 15)        150       \n",
            "_________________________________________________________________\n",
            "conv2d_2 (Conv2D)            (None, 24, 24, 15)        2040      \n",
            "_________________________________________________________________\n",
            "conv2d_3 (Conv2D)            (None, 22, 22, 25)        3400      \n",
            "_________________________________________________________________\n",
            "max_pooling2d_1 (MaxPooling2 (None, 11, 11, 25)        0         \n",
            "_________________________________________________________________\n",
            "conv2d_4 (Conv2D)            (None, 11, 11, 15)        390       \n",
            "_________________________________________________________________\n",
            "conv2d_5 (Conv2D)            (None, 9, 9, 15)          2040      \n",
            "_________________________________________________________________\n",
            "conv2d_6 (Conv2D)            (None, 7, 7, 25)          3400      \n",
            "_________________________________________________________________\n",
            "conv2d_7 (Conv2D)            (None, 7, 7, 10)          260       \n",
            "_________________________________________________________________\n",
            "conv2d_8 (Conv2D)            (None, 1, 1, 10)          4910      \n",
            "_________________________________________________________________\n",
            "flatten_1 (Flatten)          (None, 10)                0         \n",
            "_________________________________________________________________\n",
            "activation_1 (Activation)    (None, 10)                0         \n",
            "=================================================================\n",
            "Total params: 16,590\n",
            "Trainable params: 16,590\n",
            "Non-trainable params: 0\n",
            "_________________________________________________________________\n"
          ],
          "name": "stdout"
        },
        {
          "output_type": "stream",
          "text": [
            "/usr/local/lib/python3.6/dist-packages/ipykernel_launcher.py:5: UserWarning: Update your `Conv2D` call to the Keras 2 API: `Conv2D(15, (3, 3), activation=\"relu\", input_shape=(28, 28, 1...)`\n",
            "  \"\"\"\n",
            "/usr/local/lib/python3.6/dist-packages/ipykernel_launcher.py:7: UserWarning: Update your `Conv2D` call to the Keras 2 API: `Conv2D(15, (3, 3), activation=\"relu\")`\n",
            "  import sys\n",
            "/usr/local/lib/python3.6/dist-packages/ipykernel_launcher.py:8: UserWarning: Update your `Conv2D` call to the Keras 2 API: `Conv2D(25, (3, 3), activation=\"relu\")`\n",
            "  \n",
            "/usr/local/lib/python3.6/dist-packages/ipykernel_launcher.py:11: UserWarning: Update your `Conv2D` call to the Keras 2 API: `Conv2D(15, (1, 1), activation=\"relu\")`\n",
            "  # This is added back by InteractiveShellApp.init_path()\n",
            "/usr/local/lib/python3.6/dist-packages/ipykernel_launcher.py:13: UserWarning: Update your `Conv2D` call to the Keras 2 API: `Conv2D(15, (3, 3), activation=\"relu\")`\n",
            "  del sys.path[0]\n",
            "/usr/local/lib/python3.6/dist-packages/ipykernel_launcher.py:14: UserWarning: Update your `Conv2D` call to the Keras 2 API: `Conv2D(25, (3, 3), activation=\"relu\")`\n",
            "  \n"
          ],
          "name": "stderr"
        }
      ]
    },
    {
      "cell_type": "markdown",
      "metadata": {
        "id": "m-VYGHX1WmLI",
        "colab_type": "text"
      },
      "source": [
        "input: 28x28 images with 1 channels this applies 15 convolution filters of size 3x3 each.\n",
        "\n",
        "first convolution out put (26x 26 x 15)\n",
        "\n",
        "2nd convolution out put (24x 24 x 15)\n",
        "\n",
        "3rd convolution out put (22x 22 x 25)\n",
        "\n",
        "4th maxpool (11x 11 x 25)\n",
        "\n",
        "5th convolution out put (11x 11 x 15)\n",
        "\n",
        "6th convolution out put (9x 9 x 15)\n",
        "\n",
        "7th convolution out put (7x 7 x 25)\n",
        "\n",
        "8th convolution out put (7x7 x 3910)\n",
        "\n",
        "9th convolution out put (1x 1 x 10)\n",
        "\n",
        "model.add(Flatten()) create only one dimension and apply batch size (None, 10)"
      ]
    },
    {
      "cell_type": "markdown",
      "metadata": {
        "id": "0JTQjGpLXmyZ",
        "colab_type": "text"
      },
      "source": [
        ""
      ]
    },
    {
      "cell_type": "code",
      "metadata": {
        "id": "r3f0_mIppVdU",
        "colab_type": "code",
        "outputId": "3bbaf5ff-9050-4ee7-8d6a-d5dbbc25d7c9",
        "colab": {
          "base_uri": "https://localhost:8080/",
          "height": 51
        }
      },
      "source": [
        "model.compile(loss='categorical_crossentropy',\n",
        "             optimizer='adam',\n",
        "             metrics=['accuracy'])"
      ],
      "execution_count": 0,
      "outputs": [
        {
          "output_type": "stream",
          "text": [
            "WARNING:tensorflow:From /usr/local/lib/python3.6/dist-packages/keras/optimizers.py:793: The name tf.train.Optimizer is deprecated. Please use tf.compat.v1.train.Optimizer instead.\n",
            "\n"
          ],
          "name": "stdout"
        }
      ]
    },
    {
      "cell_type": "markdown",
      "metadata": {
        "id": "P6xrKUDzXqZF",
        "colab_type": "text"
      },
      "source": [
        "compile the model with categorical_crossentropy loss function,adam optimizer and list of metrics."
      ]
    },
    {
      "cell_type": "code",
      "metadata": {
        "id": "oLmM33CKpZzt",
        "colab_type": "code",
        "outputId": "0b811310-89e9-46c9-af10-946aa3be4820",
        "colab": {
          "base_uri": "https://localhost:8080/",
          "height": 479
        }
      },
      "source": [
        "\n",
        "model.fit(X_train, Y_train, batch_size=32, nb_epoch=10, verbose=1)"
      ],
      "execution_count": 0,
      "outputs": [
        {
          "output_type": "stream",
          "text": [
            "WARNING:tensorflow:From /usr/local/lib/python3.6/dist-packages/tensorflow_core/python/ops/math_grad.py:1424: where (from tensorflow.python.ops.array_ops) is deprecated and will be removed in a future version.\n",
            "Instructions for updating:\n",
            "Use tf.where in 2.0, which has the same broadcast rule as np.where\n"
          ],
          "name": "stdout"
        },
        {
          "output_type": "stream",
          "text": [
            "/usr/local/lib/python3.6/dist-packages/ipykernel_launcher.py:2: UserWarning: The `nb_epoch` argument in `fit` has been renamed `epochs`.\n",
            "  \n"
          ],
          "name": "stderr"
        },
        {
          "output_type": "stream",
          "text": [
            "Epoch 1/10\n",
            "60000/60000 [==============================] - 29s 475us/step - loss: 0.1847 - acc: 0.9421\n",
            "Epoch 2/10\n",
            "60000/60000 [==============================] - 22s 360us/step - loss: 0.0622 - acc: 0.9812\n",
            "Epoch 3/10\n",
            "60000/60000 [==============================] - 22s 360us/step - loss: 0.0463 - acc: 0.9860\n",
            "Epoch 4/10\n",
            "60000/60000 [==============================] - 22s 360us/step - loss: 0.0386 - acc: 0.9878\n",
            "Epoch 5/10\n",
            "60000/60000 [==============================] - 22s 360us/step - loss: 0.0331 - acc: 0.9895\n",
            "Epoch 6/10\n",
            "60000/60000 [==============================] - 22s 363us/step - loss: 0.0280 - acc: 0.9912\n",
            "Epoch 7/10\n",
            "60000/60000 [==============================] - 22s 360us/step - loss: 0.0248 - acc: 0.9917\n",
            "Epoch 8/10\n",
            "60000/60000 [==============================] - 22s 360us/step - loss: 0.0228 - acc: 0.9924\n",
            "Epoch 9/10\n",
            "60000/60000 [==============================] - 22s 359us/step - loss: 0.0198 - acc: 0.9937\n",
            "Epoch 10/10\n",
            "60000/60000 [==============================] - 21s 358us/step - loss: 0.0185 - acc: 0.9939\n"
          ],
          "name": "stdout"
        },
        {
          "output_type": "execute_result",
          "data": {
            "text/plain": [
              "<keras.callbacks.History at 0x7f2731927b38>"
            ]
          },
          "metadata": {
            "tags": []
          },
          "execution_count": 12
        }
      ]
    },
    {
      "cell_type": "markdown",
      "metadata": {
        "id": "zaa2k4hZXpcu",
        "colab_type": "text"
      },
      "source": [
        ""
      ]
    },
    {
      "cell_type": "code",
      "metadata": {
        "id": "6NsunVZ1uoyu",
        "colab_type": "code",
        "colab": {}
      },
      "source": [
        "score = model.evaluate(X_test, Y_test, verbose=0)"
      ],
      "execution_count": 0,
      "outputs": []
    },
    {
      "cell_type": "markdown",
      "metadata": {
        "id": "mMy_niAJX5s-",
        "colab_type": "text"
      },
      "source": [
        "model.evaluate function predicts the output for a given input and then computes the metrics function specified in the model compilation step and based on X_test and Y_test and returns the computed metric value as the output"
      ]
    },
    {
      "cell_type": "code",
      "metadata": {
        "id": "y12BR5jML6Y-",
        "colab_type": "code",
        "outputId": "7bb0044d-277a-4c66-c810-dac85474f65b",
        "colab": {
          "base_uri": "https://localhost:8080/",
          "height": 34
        }
      },
      "source": [
        "print(score)"
      ],
      "execution_count": 0,
      "outputs": [
        {
          "output_type": "stream",
          "text": [
            "[0.03691102916491946, 0.9891]\n"
          ],
          "name": "stdout"
        }
      ]
    },
    {
      "cell_type": "code",
      "metadata": {
        "id": "0jw0HtbGMKxJ",
        "colab_type": "code",
        "colab": {}
      },
      "source": [
        "y_pred = model.predict(X_test)"
      ],
      "execution_count": 0,
      "outputs": []
    },
    {
      "cell_type": "markdown",
      "metadata": {
        "id": "FsSP6twXX_En",
        "colab_type": "text"
      },
      "source": [
        "Predicting the output for the input samples"
      ]
    },
    {
      "cell_type": "code",
      "metadata": {
        "id": "G8VJzaw-MOv1",
        "colab_type": "code",
        "outputId": "2fa71593-babf-4b73-e181-3119fdc7b52c",
        "colab": {
          "base_uri": "https://localhost:8080/",
          "height": 493
        }
      },
      "source": [
        "print(y_pred[:9])\n",
        "print(y_test[:9])"
      ],
      "execution_count": 0,
      "outputs": [
        {
          "output_type": "stream",
          "text": [
            "[[8.04828480e-14 6.89892284e-12 4.93675287e-08 2.04174285e-06\n",
            "  4.23750966e-14 6.53710697e-11 2.47103002e-21 9.99997854e-01\n",
            "  2.37726451e-13 5.33291633e-08]\n",
            " [3.49899609e-10 2.22905243e-07 9.99999762e-01 2.36743286e-12\n",
            "  9.50203082e-17 1.04395781e-13 7.55573035e-11 1.18557370e-15\n",
            "  5.40452039e-09 3.86468167e-14]\n",
            " [2.35655280e-11 9.99989629e-01 8.43231464e-06 7.36639499e-11\n",
            "  3.76584012e-07 1.34542674e-07 6.59778399e-10 1.23169252e-06\n",
            "  1.65861778e-07 8.55967830e-09]\n",
            " [9.99433100e-01 4.05842737e-09 8.95926064e-07 1.32981326e-09\n",
            "  9.50953538e-09 8.66534720e-07 2.20056405e-04 6.19593310e-09\n",
            "  5.38241693e-07 3.44470784e-04]\n",
            " [5.18802102e-12 4.55225484e-12 6.34954068e-12 1.05887399e-13\n",
            "  9.99988437e-01 2.27601965e-10 6.45807409e-12 2.09698370e-10\n",
            "  2.21004864e-11 1.16045749e-05]\n",
            " [2.32820430e-10 9.99986768e-01 2.50952007e-06 1.64414940e-11\n",
            "  1.02642462e-05 7.06240488e-09 3.54182295e-10 3.75964305e-07\n",
            "  1.43017118e-07 1.37602445e-08]\n",
            " [1.09347004e-16 1.93966763e-08 4.59605326e-10 1.59726919e-11\n",
            "  9.99406338e-01 1.36751921e-09 2.12600992e-15 3.75334389e-06\n",
            "  5.59328193e-08 5.89743955e-04]\n",
            " [2.37911253e-11 2.64260142e-10 3.42812064e-06 2.11586439e-06\n",
            "  5.18140732e-05 7.86843714e-07 5.76111560e-14 1.08304152e-06\n",
            "  2.52158685e-07 9.99940515e-01]\n",
            " [5.27268680e-12 5.26987545e-18 4.07266498e-10 4.26108151e-13\n",
            "  1.44226153e-16 9.98789608e-01 1.21039525e-03 9.40490063e-17\n",
            "  2.68151314e-08 3.12218140e-09]]\n",
            "[7 2 1 0 4 1 4 9 5]\n"
          ],
          "name": "stdout"
        }
      ]
    },
    {
      "cell_type": "markdown",
      "metadata": {
        "id": "Aevj5itQYD9h",
        "colab_type": "text"
      },
      "source": [
        "activation='relu' should remove from the chanel\n",
        "\n",
        "If too many activation values are below zero then most of the neurons in network with Relu Activation will modify the output to zero for values in -ve"
      ]
    },
    {
      "cell_type": "code",
      "metadata": {
        "id": "Syk5yg9xMSdB",
        "colab_type": "code",
        "colab": {}
      },
      "source": [
        "layer_dict = dict([(layer.name, layer) for layer in model.layers])"
      ],
      "execution_count": 0,
      "outputs": []
    },
    {
      "cell_type": "code",
      "metadata": {
        "id": "AEXshMqjMXsy",
        "colab_type": "code",
        "outputId": "e00a07fb-ea53-444b-ce7e-937fddd08d89",
        "colab": {
          "base_uri": "https://localhost:8080/",
          "height": 837
        }
      },
      "source": [
        "import numpy as np\n",
        "from matplotlib import pyplot as plt\n",
        "from keras.layers import Convolution2D\n",
        "from keras import backend as K\n",
        "%matplotlib inline\n",
        "# util function to convert a tensor into a valid image\n",
        "def deprocess_image(x):\n",
        "    # normalize tensor: center on 0., ensure std is 0.1\n",
        "    x -= x.mean()\n",
        "    x /= (x.std() + 1e-5)\n",
        "    x *= 0.1\n",
        "\n",
        "    # clip to [0, 1]\n",
        "    x += 0.5\n",
        "    x = np.clip(x, 0, 1)\n",
        "\n",
        "    # convert to RGB array\n",
        "    x *= 255\n",
        "    #x = x.transpose((1, 2, 0))\n",
        "    x = np.clip(x, 0, 255).astype('uint8')\n",
        "    return x\n",
        "\n",
        "def vis_img_in_filter(img = np.array(X_train[2]).reshape((1, 28, 28, 1)).astype(np.float64), \n",
        "                      layer_name = 'conv2d_3'):\n",
        "    layer_output = layer_dict[layer_name].output\n",
        "    img_ascs = list()\n",
        "    for filter_index in range(layer_output.shape[3]):\n",
        "        # build a loss function that maximizes the activation\n",
        "        # of the nth filter of the layer considered\n",
        "        loss = K.mean(layer_output[:, :, :, filter_index])\n",
        "\n",
        "        # compute the gradient of the input picture wrt this loss\n",
        "        grads = K.gradients(loss, model.input)[0]\n",
        "\n",
        "        # normalization trick: we normalize the gradient\n",
        "        grads /= (K.sqrt(K.mean(K.square(grads))) + 1e-5)\n",
        "\n",
        "        # this function returns the loss and grads given the input picture\n",
        "        iterate = K.function([model.input], [loss, grads])\n",
        "\n",
        "        # step size for gradient ascent\n",
        "        step = 5.\n",
        "\n",
        "        img_asc = np.array(img)\n",
        "        # run gradient ascent for 20 steps\n",
        "        for i in range(20):\n",
        "            loss_value, grads_value = iterate([img_asc])\n",
        "            img_asc += grads_value * step\n",
        "\n",
        "        img_asc = img_asc[0]\n",
        "        img_ascs.append(deprocess_image(img_asc).reshape((28, 28)))\n",
        "        \n",
        "    if layer_output.shape[3] >= 35:\n",
        "        plot_x, plot_y = 6, 6\n",
        "    elif layer_output.shape[3] >= 23:\n",
        "        plot_x, plot_y = 4, 6\n",
        "    elif layer_output.shape[3] >= 11:\n",
        "        plot_x, plot_y = 2, 6\n",
        "    else:\n",
        "        plot_x, plot_y = 1, 2\n",
        "    fig, ax = plt.subplots(plot_x, plot_y, figsize = (12, 12))\n",
        "    ax[0, 0].imshow(img.reshape((28, 28)), cmap = 'gray')\n",
        "    ax[0, 0].set_title('Input image')\n",
        "    fig.suptitle('Input image and %s filters' % (layer_name,))\n",
        "    fig.tight_layout(pad = 0.3, rect = [0, 0, 0.9, 0.9])\n",
        "    for (x, y) in [(i, j) for i in range(plot_x) for j in range(plot_y)]:\n",
        "        if x == 0 and y == 0:\n",
        "            continue\n",
        "        ax[x, y].imshow(img_ascs[x * plot_y + y - 1], cmap = 'gray')\n",
        "        ax[x, y].set_title('filter %d' % (x * plot_y + y - 1))\n",
        "\n",
        "vis_img_in_filter()"
      ],
      "execution_count": 0,
      "outputs": [
        {
          "output_type": "display_data",
          "data": {
            "image/png": "[encoded data removed]",
            "text/plain": [
              "<Figure size 864x864 with 24 Axes>"
            ]
          },
          "metadata": {
            "tags": []
          }
        }
      ]
    },
    {
      "cell_type": "code",
      "metadata": {
        "id": "9WqCc_d9Mhn2",
        "colab_type": "code",
        "colab": {}
      },
      "source": [
        ""
      ],
      "execution_count": 0,
      "outputs": []
    }
  ]
}